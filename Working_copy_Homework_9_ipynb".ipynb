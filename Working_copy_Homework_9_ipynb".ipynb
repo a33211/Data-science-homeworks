{
  "nbformat": 4,
  "nbformat_minor": 0,
  "metadata": {
    "colab": {
      "provenance": [],
      "authorship_tag": "ABX9TyPjCKWox2//ng0xJGSJbNVU",
      "include_colab_link": true
    },
    "kernelspec": {
      "name": "python3",
      "display_name": "Python 3"
    },
    "language_info": {
      "name": "python"
    }
  },
  "cells": [
    {
      "cell_type": "markdown",
      "metadata": {
        "id": "view-in-github",
        "colab_type": "text"
      },
      "source": [
        "<a href=\"https://colab.research.google.com/github/a33211/Data-science-homeworks/blob/main/Working_copy_Homework_9_ipynb%22.ipynb\" target=\"_parent\"><img src=\"https://colab.research.google.com/assets/colab-badge.svg\" alt=\"Open In Colab\"/></a>"
      ]
    },
    {
      "cell_type": "code",
      "execution_count": 37,
      "metadata": {
        "id": "tplnPdDfgVL7"
      },
      "outputs": [],
      "source": [
        "import tensorflow as tf\n",
        "import numpy as np\n",
        "import matplotlib.pyplot as plt\n",
        "from tensorflow import keras\n",
        "from keras.datasets import fashion_mnist\n",
        "from keras.models import Sequential\n",
        "from keras.layers import Dense, Dropout\n",
        "from keras import layers\n",
        "from keras import utils\n",
        "import sklearn\n"
      ]
    },
    {
      "cell_type": "code",
      "source": [
        "from sklearn.metrics import classification_report"
      ],
      "metadata": {
        "id": "yyYRh0BjJcES"
      },
      "execution_count": 38,
      "outputs": []
    },
    {
      "cell_type": "markdown",
      "source": [
        "Так як це теж зображення, скопіював для початку частину налаштувань з ДЗ8"
      ],
      "metadata": {
        "id": "foND1S4DhBQR"
      }
    },
    {
      "cell_type": "code",
      "source": [
        "# Завантажуємо датасет\n",
        "(x_train, y_train), (x_test, y_test) = fashion_mnist.load_data()\n",
        "y_train = tf.keras.utils.to_categorical(y_train, num_classes=10)\n",
        "y_test = tf.keras.utils.to_categorical(y_test, num_classes=10)\n",
        "#class names\n",
        "class_names = ['майка', 'штані', 'світер', 'плаття', 'толстовка', 'сандалі', 'сорочка', 'кросівки', 'сумка', 'жіночі краги']"
      ],
      "metadata": {
        "id": "fubfvCdHhI2T"
      },
      "execution_count": 39,
      "outputs": []
    },
    {
      "cell_type": "code",
      "source": [
        "# Нормалізуємо значення пікселів\n",
        "x_train, x_test = x_train / 255., x_test / 255."
      ],
      "metadata": {
        "id": "BBQEV-O9nN3a"
      },
      "execution_count": 40,
      "outputs": []
    },
    {
      "cell_type": "code",
      "source": [
        "plt.figure()\n",
        "plt.imshow(x_train[690])\n",
        "plt.colorbar()\n",
        "plt.grid(False)"
      ],
      "metadata": {
        "colab": {
          "base_uri": "https://localhost:8080/",
          "height": 435
        },
        "id": "svLuqILJnURT",
        "outputId": "74706004-5713-46b8-8133-c30875eb5067"
      },
      "execution_count": 41,
      "outputs": [
        {
          "output_type": "display_data",
          "data": {
            "text/plain": [
              "<Figure size 640x480 with 2 Axes>"
            ],
            "image/png": "[encoded data removed]"
          },
          "metadata": {}
        }
      ]
    },
    {
      "cell_type": "code",
      "source": [
        "plt.figure(figsize=(10,10))\n",
        "for i in range(25):\n",
        "  plt.subplot(5,5,i+1)\n",
        "  plt.xticks([])\n",
        "  plt.yticks([])\n",
        "  plt.imshow(x_train[i],cmap=plt.cm.binary)\n",
        "  plt.xlabel(class_names[y_train[i]])"
      ],
      "metadata": {
        "colab": {
          "base_uri": "https://localhost:8080/",
          "height": 352
        },
        "id": "_a3HJSU5nkN1",
        "outputId": "2a1c6df6-7da7-4bfe-c506-d371a99a49d5"
      },
      "execution_count": null,
      "outputs": [
        {
          "output_type": "error",
          "ename": "TypeError",
          "evalue": "ignored",
          "traceback": [
            "\u001b[0;31m---------------------------------------------------------------------------\u001b[0m",
            "\u001b[0;31mTypeError\u001b[0m                                 Traceback (most recent call last)",
            "\u001b[0;32m<ipython-input-15-a1035a2175a1>\u001b[0m in \u001b[0;36m<cell line: 2>\u001b[0;34m()\u001b[0m\n\u001b[1;32m      5\u001b[0m   \u001b[0mplt\u001b[0m\u001b[0;34m.\u001b[0m\u001b[0myticks\u001b[0m\u001b[0;34m(\u001b[0m\u001b[0;34m[\u001b[0m\u001b[0;34m]\u001b[0m\u001b[0;34m)\u001b[0m\u001b[0;34m\u001b[0m\u001b[0;34m\u001b[0m\u001b[0m\n\u001b[1;32m      6\u001b[0m   \u001b[0mplt\u001b[0m\u001b[0;34m.\u001b[0m\u001b[0mimshow\u001b[0m\u001b[0;34m(\u001b[0m\u001b[0mx_train\u001b[0m\u001b[0;34m[\u001b[0m\u001b[0mi\u001b[0m\u001b[0;34m]\u001b[0m\u001b[0;34m,\u001b[0m\u001b[0mcmap\u001b[0m\u001b[0;34m=\u001b[0m\u001b[0mplt\u001b[0m\u001b[0;34m.\u001b[0m\u001b[0mcm\u001b[0m\u001b[0;34m.\u001b[0m\u001b[0mbinary\u001b[0m\u001b[0;34m)\u001b[0m\u001b[0;34m\u001b[0m\u001b[0;34m\u001b[0m\u001b[0m\n\u001b[0;32m----> 7\u001b[0;31m   \u001b[0mplt\u001b[0m\u001b[0;34m.\u001b[0m\u001b[0mxlabel\u001b[0m\u001b[0;34m(\u001b[0m\u001b[0mclass_names\u001b[0m\u001b[0;34m[\u001b[0m\u001b[0my_train\u001b[0m\u001b[0;34m[\u001b[0m\u001b[0mi\u001b[0m\u001b[0;34m]\u001b[0m\u001b[0;34m]\u001b[0m\u001b[0;34m)\u001b[0m\u001b[0;34m\u001b[0m\u001b[0;34m\u001b[0m\u001b[0m\n\u001b[0m",
            "\u001b[0;31mTypeError\u001b[0m: only integer scalar arrays can be converted to a scalar index"
          ]
        },
        {
          "output_type": "display_data",
          "data": {
            "text/plain": [
              "<Figure size 1000x1000 with 1 Axes>"
            ],
            "image/png": "[encoded data removed]"
          },
          "metadata": {}
        }
      ]
    },
    {
      "cell_type": "markdown",
      "source": [
        "Побудова модоелі"
      ],
      "metadata": {
        "id": "lGExL04OpXAp"
      }
    },
    {
      "cell_type": "code",
      "source": [
        "from tensorflow.keras import regularizers"
      ],
      "metadata": {
        "id": "yb9wNya_YZEl"
      },
      "execution_count": 61,
      "outputs": []
    },
    {
      "cell_type": "code",
      "source": [
        "model2 = keras.Sequential([\n",
        "                          keras.layers.Flatten(input_shape=(28,28)),\n",
        "                          layers.Dense(512, activation=\"relu\"),\n",
        "                          layers.Dense(256, activation=\"relu\"),\n",
        "                          layers.Dense(128, activation=\"relu\"),\n",
        "                          layers.Dense(10, activation=\"softmax\")\n",
        "])\n"
      ],
      "metadata": {
        "id": "Z05_QaaKpWdi"
      },
      "execution_count": 91,
      "outputs": []
    },
    {
      "cell_type": "code",
      "source": [
        "model2.compile(optimizer=\"adam\",\n",
        "              loss=\"categorical_crossentropy\",\n",
        "              metrics=[\"accuracy\"])\n",
        "display(model2.summary())"
      ],
      "metadata": {
        "colab": {
          "base_uri": "https://localhost:8080/",
          "height": 364
        },
        "id": "JJYr5gbIq0Kn",
        "outputId": "8f248bac-0907-4e2c-cdac-d4772122fe87"
      },
      "execution_count": 92,
      "outputs": [
        {
          "output_type": "stream",
          "name": "stdout",
          "text": [
            "Model: \"sequential_6\"\n",
            "_________________________________________________________________\n",
            " Layer (type)                Output Shape              Param #   \n",
            "=================================================================\n",
            " flatten_8 (Flatten)         (None, 784)               0         \n",
            "                                                                 \n",
            " dense_26 (Dense)            (None, 512)               401920    \n",
            "                                                                 \n",
            " dense_27 (Dense)            (None, 256)               131328    \n",
            "                                                                 \n",
            " dense_28 (Dense)            (None, 128)               32896     \n",
            "                                                                 \n",
            " dense_29 (Dense)            (None, 10)                1290      \n",
            "                                                                 \n",
            "=================================================================\n",
            "Total params: 567,434\n",
            "Trainable params: 567,434\n",
            "Non-trainable params: 0\n",
            "_________________________________________________________________\n"
          ]
        },
        {
          "output_type": "display_data",
          "data": {
            "text/plain": [
              "None"
            ]
          },
          "metadata": {}
        }
      ]
    },
    {
      "cell_type": "markdown",
      "source": [
        "Треннування моделі"
      ],
      "metadata": {
        "id": "DyZhvGcdsWLu"
      }
    },
    {
      "cell_type": "code",
      "source": [
        "model2.fit(x_train, y_train, epochs=100)"
      ],
      "metadata": {
        "colab": {
          "base_uri": "https://localhost:8080/"
        },
        "id": "D8hg9Vv8sDhM",
        "outputId": "d7c4756c-d45d-4ca8-e5b6-90f26a54d2e4"
      },
      "execution_count": 93,
      "outputs": [
        {
          "output_type": "stream",
          "name": "stdout",
          "text": [
            "Epoch 1/100\n",
            "1875/1875 [==============================] - 20s 10ms/step - loss: 0.4777 - accuracy: 0.8264\n",
            "Epoch 2/100\n",
            "1875/1875 [==============================] - 19s 10ms/step - loss: 0.3616 - accuracy: 0.8678\n",
            "Epoch 3/100\n",
            "1875/1875 [==============================] - 19s 10ms/step - loss: 0.3265 - accuracy: 0.8795\n",
            "Epoch 4/100\n",
            "1875/1875 [==============================] - 20s 11ms/step - loss: 0.3037 - accuracy: 0.8867\n",
            "Epoch 5/100\n",
            "1875/1875 [==============================] - 19s 10ms/step - loss: 0.2843 - accuracy: 0.8932\n",
            "Epoch 6/100\n",
            "1875/1875 [==============================] - 20s 11ms/step - loss: 0.2684 - accuracy: 0.8997\n",
            "Epoch 7/100\n",
            "1875/1875 [==============================] - 19s 10ms/step - loss: 0.2563 - accuracy: 0.9038\n",
            "Epoch 8/100\n",
            "1875/1875 [==============================] - 20s 11ms/step - loss: 0.2455 - accuracy: 0.9073\n",
            "Epoch 9/100\n",
            "1875/1875 [==============================] - 19s 10ms/step - loss: 0.2371 - accuracy: 0.9102\n",
            "Epoch 10/100\n",
            "1875/1875 [==============================] - 19s 10ms/step - loss: 0.2289 - accuracy: 0.9134\n",
            "Epoch 11/100\n",
            "1875/1875 [==============================] - 19s 10ms/step - loss: 0.2174 - accuracy: 0.9170\n",
            "Epoch 12/100\n",
            "1875/1875 [==============================] - 19s 10ms/step - loss: 0.2117 - accuracy: 0.9185\n",
            "Epoch 13/100\n",
            "1875/1875 [==============================] - 19s 10ms/step - loss: 0.2073 - accuracy: 0.9208\n",
            "Epoch 14/100\n",
            "1875/1875 [==============================] - 19s 10ms/step - loss: 0.1976 - accuracy: 0.9242\n",
            "Epoch 15/100\n",
            "1875/1875 [==============================] - 19s 10ms/step - loss: 0.1936 - accuracy: 0.9263\n",
            "Epoch 16/100\n",
            "1875/1875 [==============================] - 18s 10ms/step - loss: 0.1849 - accuracy: 0.9292\n",
            "Epoch 17/100\n",
            "1875/1875 [==============================] - 19s 10ms/step - loss: 0.1809 - accuracy: 0.9300\n",
            "Epoch 18/100\n",
            "1875/1875 [==============================] - 19s 10ms/step - loss: 0.1764 - accuracy: 0.9326\n",
            "Epoch 19/100\n",
            "1875/1875 [==============================] - 20s 11ms/step - loss: 0.1687 - accuracy: 0.9352\n",
            "Epoch 20/100\n",
            "1875/1875 [==============================] - 19s 10ms/step - loss: 0.1671 - accuracy: 0.9358\n",
            "Epoch 21/100\n",
            "1875/1875 [==============================] - 20s 11ms/step - loss: 0.1630 - accuracy: 0.9381\n",
            "Epoch 22/100\n",
            "1875/1875 [==============================] - 19s 10ms/step - loss: 0.1599 - accuracy: 0.9390\n",
            "Epoch 23/100\n",
            "1875/1875 [==============================] - 20s 11ms/step - loss: 0.1545 - accuracy: 0.9404\n",
            "Epoch 24/100\n",
            "1875/1875 [==============================] - 19s 10ms/step - loss: 0.1506 - accuracy: 0.9418\n",
            "Epoch 25/100\n",
            "1875/1875 [==============================] - 20s 11ms/step - loss: 0.1449 - accuracy: 0.9440\n",
            "Epoch 26/100\n",
            "1875/1875 [==============================] - 19s 10ms/step - loss: 0.1457 - accuracy: 0.9440\n",
            "Epoch 27/100\n",
            "1875/1875 [==============================] - 19s 10ms/step - loss: 0.1375 - accuracy: 0.9476\n",
            "Epoch 28/100\n",
            "1875/1875 [==============================] - 19s 10ms/step - loss: 0.1366 - accuracy: 0.9472\n",
            "Epoch 29/100\n",
            "1875/1875 [==============================] - 18s 10ms/step - loss: 0.1325 - accuracy: 0.9490\n",
            "Epoch 30/100\n",
            "1875/1875 [==============================] - 20s 10ms/step - loss: 0.1298 - accuracy: 0.9496\n",
            "Epoch 31/100\n",
            "1875/1875 [==============================] - 19s 10ms/step - loss: 0.1271 - accuracy: 0.9523\n",
            "Epoch 32/100\n",
            "1875/1875 [==============================] - 20s 11ms/step - loss: 0.1290 - accuracy: 0.9509\n",
            "Epoch 33/100\n",
            "1875/1875 [==============================] - 19s 10ms/step - loss: 0.1241 - accuracy: 0.9520\n",
            "Epoch 34/100\n",
            "1875/1875 [==============================] - 20s 11ms/step - loss: 0.1158 - accuracy: 0.9549\n",
            "Epoch 35/100\n",
            "1875/1875 [==============================] - 19s 10ms/step - loss: 0.1168 - accuracy: 0.9552\n",
            "Epoch 36/100\n",
            "1875/1875 [==============================] - 20s 10ms/step - loss: 0.1115 - accuracy: 0.9572\n",
            "Epoch 37/100\n",
            "1875/1875 [==============================] - 19s 10ms/step - loss: 0.1174 - accuracy: 0.9562\n",
            "Epoch 38/100\n",
            "1875/1875 [==============================] - 20s 10ms/step - loss: 0.1099 - accuracy: 0.9577\n",
            "Epoch 39/100\n",
            "1875/1875 [==============================] - 19s 10ms/step - loss: 0.1093 - accuracy: 0.9580\n",
            "Epoch 40/100\n",
            "1875/1875 [==============================] - 20s 10ms/step - loss: 0.1069 - accuracy: 0.9590\n",
            "Epoch 41/100\n",
            "1875/1875 [==============================] - 19s 10ms/step - loss: 0.1045 - accuracy: 0.9603\n",
            "Epoch 42/100\n",
            "1875/1875 [==============================] - 20s 11ms/step - loss: 0.1051 - accuracy: 0.9601\n",
            "Epoch 43/100\n",
            "1875/1875 [==============================] - 19s 10ms/step - loss: 0.0994 - accuracy: 0.9622\n",
            "Epoch 44/100\n",
            "1875/1875 [==============================] - 19s 10ms/step - loss: 0.1007 - accuracy: 0.9616\n",
            "Epoch 45/100\n",
            "1875/1875 [==============================] - 20s 10ms/step - loss: 0.1040 - accuracy: 0.9604\n",
            "Epoch 46/100\n",
            "1875/1875 [==============================] - 19s 10ms/step - loss: 0.0986 - accuracy: 0.9622\n",
            "Epoch 47/100\n",
            "1875/1875 [==============================] - 19s 10ms/step - loss: 0.0956 - accuracy: 0.9636\n",
            "Epoch 48/100\n",
            "1875/1875 [==============================] - 19s 10ms/step - loss: 0.0971 - accuracy: 0.9635\n",
            "Epoch 49/100\n",
            "1875/1875 [==============================] - 20s 11ms/step - loss: 0.0920 - accuracy: 0.9646\n",
            "Epoch 50/100\n",
            "1875/1875 [==============================] - 19s 10ms/step - loss: 0.0925 - accuracy: 0.9655\n",
            "Epoch 51/100\n",
            "1875/1875 [==============================] - 20s 11ms/step - loss: 0.0951 - accuracy: 0.9651\n",
            "Epoch 52/100\n",
            "1875/1875 [==============================] - 19s 10ms/step - loss: 0.0889 - accuracy: 0.9670\n",
            "Epoch 53/100\n",
            "1875/1875 [==============================] - 20s 11ms/step - loss: 0.0835 - accuracy: 0.9686\n",
            "Epoch 54/100\n",
            "1875/1875 [==============================] - 19s 10ms/step - loss: 0.0910 - accuracy: 0.9661\n",
            "Epoch 55/100\n",
            "1875/1875 [==============================] - 20s 11ms/step - loss: 0.0895 - accuracy: 0.9666\n",
            "Epoch 56/100\n",
            "1875/1875 [==============================] - 19s 10ms/step - loss: 0.0836 - accuracy: 0.9685\n",
            "Epoch 57/100\n",
            "1875/1875 [==============================] - 19s 10ms/step - loss: 0.0850 - accuracy: 0.9685\n",
            "Epoch 58/100\n",
            "1875/1875 [==============================] - 19s 10ms/step - loss: 0.0849 - accuracy: 0.9689\n",
            "Epoch 59/100\n",
            "1875/1875 [==============================] - 20s 11ms/step - loss: 0.0882 - accuracy: 0.9687\n",
            "Epoch 60/100\n",
            "1875/1875 [==============================] - 19s 10ms/step - loss: 0.0797 - accuracy: 0.9705\n",
            "Epoch 61/100\n",
            "1875/1875 [==============================] - 20s 10ms/step - loss: 0.0830 - accuracy: 0.9695\n",
            "Epoch 62/100\n",
            "1875/1875 [==============================] - 19s 10ms/step - loss: 0.0805 - accuracy: 0.9700\n",
            "Epoch 63/100\n",
            "1875/1875 [==============================] - 20s 10ms/step - loss: 0.0797 - accuracy: 0.9699\n",
            "Epoch 64/100\n",
            "1875/1875 [==============================] - 19s 10ms/step - loss: 0.0776 - accuracy: 0.9709\n",
            "Epoch 65/100\n",
            "1875/1875 [==============================] - 19s 10ms/step - loss: 0.0744 - accuracy: 0.9726\n",
            "Epoch 66/100\n",
            "1875/1875 [==============================] - 19s 10ms/step - loss: 0.0779 - accuracy: 0.9701\n",
            "Epoch 67/100\n",
            "1875/1875 [==============================] - 19s 10ms/step - loss: 0.0724 - accuracy: 0.9738\n",
            "Epoch 68/100\n",
            "1875/1875 [==============================] - 20s 11ms/step - loss: 0.0780 - accuracy: 0.9713\n",
            "Epoch 69/100\n",
            "1875/1875 [==============================] - 19s 10ms/step - loss: 0.0741 - accuracy: 0.9729\n",
            "Epoch 70/100\n",
            "1875/1875 [==============================] - 20s 11ms/step - loss: 0.0759 - accuracy: 0.9731\n",
            "Epoch 71/100\n",
            "1875/1875 [==============================] - 19s 10ms/step - loss: 0.0729 - accuracy: 0.9732\n",
            "Epoch 72/100\n",
            "1875/1875 [==============================] - 20s 11ms/step - loss: 0.0687 - accuracy: 0.9749\n",
            "Epoch 73/100\n",
            "1875/1875 [==============================] - 19s 10ms/step - loss: 0.0726 - accuracy: 0.9737\n",
            "Epoch 74/100\n",
            "1875/1875 [==============================] - 20s 11ms/step - loss: 0.0757 - accuracy: 0.9731\n",
            "Epoch 75/100\n",
            "1875/1875 [==============================] - 19s 10ms/step - loss: 0.0725 - accuracy: 0.9739\n",
            "Epoch 76/100\n",
            "1875/1875 [==============================] - 20s 10ms/step - loss: 0.0679 - accuracy: 0.9758\n",
            "Epoch 77/100\n",
            "1875/1875 [==============================] - 19s 10ms/step - loss: 0.0665 - accuracy: 0.9750\n",
            "Epoch 78/100\n",
            "1875/1875 [==============================] - 20s 11ms/step - loss: 0.0672 - accuracy: 0.9752\n",
            "Epoch 79/100\n",
            "1875/1875 [==============================] - 19s 10ms/step - loss: 0.0656 - accuracy: 0.9770\n",
            "Epoch 80/100\n",
            "1875/1875 [==============================] - 19s 10ms/step - loss: 0.0711 - accuracy: 0.9763\n",
            "Epoch 81/100\n",
            "1875/1875 [==============================] - 19s 10ms/step - loss: 0.0644 - accuracy: 0.9769\n",
            "Epoch 82/100\n",
            "1875/1875 [==============================] - 19s 10ms/step - loss: 0.0632 - accuracy: 0.9769\n",
            "Epoch 83/100\n",
            "1875/1875 [==============================] - 19s 10ms/step - loss: 0.0636 - accuracy: 0.9772\n",
            "Epoch 84/100\n",
            "1875/1875 [==============================] - 19s 10ms/step - loss: 0.0667 - accuracy: 0.9761\n",
            "Epoch 85/100\n",
            "1875/1875 [==============================] - 20s 11ms/step - loss: 0.0638 - accuracy: 0.9774\n",
            "Epoch 86/100\n",
            "1875/1875 [==============================] - 19s 10ms/step - loss: 0.0694 - accuracy: 0.9758\n",
            "Epoch 87/100\n",
            "1875/1875 [==============================] - 20s 11ms/step - loss: 0.0583 - accuracy: 0.9787\n",
            "Epoch 88/100\n",
            "1875/1875 [==============================] - 19s 10ms/step - loss: 0.0651 - accuracy: 0.9770\n",
            "Epoch 89/100\n",
            "1875/1875 [==============================] - 20s 11ms/step - loss: 0.0607 - accuracy: 0.9777\n",
            "Epoch 90/100\n",
            "1875/1875 [==============================] - 19s 10ms/step - loss: 0.0645 - accuracy: 0.9778\n",
            "Epoch 91/100\n",
            "1875/1875 [==============================] - 20s 11ms/step - loss: 0.0660 - accuracy: 0.9763\n",
            "Epoch 92/100\n",
            "1875/1875 [==============================] - 19s 10ms/step - loss: 0.0577 - accuracy: 0.9795\n",
            "Epoch 93/100\n",
            "1875/1875 [==============================] - 20s 11ms/step - loss: 0.0569 - accuracy: 0.9799\n",
            "Epoch 94/100\n",
            "1875/1875 [==============================] - 19s 10ms/step - loss: 0.0614 - accuracy: 0.9785\n",
            "Epoch 95/100\n",
            "1875/1875 [==============================] - 20s 10ms/step - loss: 0.0627 - accuracy: 0.9787\n",
            "Epoch 96/100\n",
            "1875/1875 [==============================] - 19s 10ms/step - loss: 0.0539 - accuracy: 0.9801\n",
            "Epoch 97/100\n",
            "1875/1875 [==============================] - 19s 10ms/step - loss: 0.0586 - accuracy: 0.9794\n",
            "Epoch 98/100\n",
            "1875/1875 [==============================] - 20s 10ms/step - loss: 0.0678 - accuracy: 0.9772\n",
            "Epoch 99/100\n",
            "1875/1875 [==============================] - 19s 10ms/step - loss: 0.0545 - accuracy: 0.9812\n",
            "Epoch 100/100\n",
            "1875/1875 [==============================] - 20s 11ms/step - loss: 0.0624 - accuracy: 0.9794\n"
          ]
        },
        {
          "output_type": "execute_result",
          "data": {
            "text/plain": [
              "<keras.callbacks.History at 0x7f15197ca590>"
            ]
          },
          "metadata": {},
          "execution_count": 93
        }
      ]
    },
    {
      "cell_type": "code",
      "source": [
        "#тестування\n",
        "y_pred = model2.predict(x_test)\n",
        "y_pred_labels = np.argmax(y_pred, axis=1)\n",
        "report = classification_report(np.argmax(y_test, axis=1), y_pred_labels)\n",
        "print(report)"
      ],
      "metadata": {
        "colab": {
          "base_uri": "https://localhost:8080/"
        },
        "id": "F3RNpJh-zHNB",
        "outputId": "8ad4f63b-af33-4992-fd68-86b22dae9122"
      },
      "execution_count": 95,
      "outputs": [
        {
          "output_type": "stream",
          "name": "stdout",
          "text": [
            "313/313 [==============================] - 1s 4ms/step\n",
            "              precision    recall  f1-score   support\n",
            "\n",
            "           0       0.83      0.86      0.84      1000\n",
            "           1       0.98      0.98      0.98      1000\n",
            "           2       0.81      0.81      0.81      1000\n",
            "           3       0.92      0.87      0.90      1000\n",
            "           4       0.78      0.84      0.81      1000\n",
            "           5       0.99      0.95      0.97      1000\n",
            "           6       0.74      0.71      0.72      1000\n",
            "           7       0.95      0.97      0.96      1000\n",
            "           8       0.98      0.97      0.98      1000\n",
            "           9       0.96      0.97      0.96      1000\n",
            "\n",
            "    accuracy                           0.89     10000\n",
            "   macro avg       0.89      0.89      0.89     10000\n",
            "weighted avg       0.89      0.89      0.89     10000\n",
            "\n"
          ]
        }
      ]
    },
    {
      "cell_type": "code",
      "source": [
        "#прогноз\n",
        "predict=model2.predict(x_train)"
      ],
      "metadata": {
        "colab": {
          "base_uri": "https://localhost:8080/"
        },
        "id": "_QWXLsh3z18N",
        "outputId": "9470a261-3d52-4b06-a0b1-b9197ecf127a"
      },
      "execution_count": 97,
      "outputs": [
        {
          "output_type": "stream",
          "name": "stdout",
          "text": [
            "1875/1875 [==============================] - 7s 4ms/step\n"
          ]
        }
      ]
    },
    {
      "cell_type": "code",
      "source": [
        "plt.figure()\n",
        "plt.imshow(x_test[400])\n",
        "plt.colorbar()\n",
        "plt.grid(False)\n",
        "print(class_names[np.argmax(y_test[400])])"
      ],
      "metadata": {
        "colab": {
          "base_uri": "https://localhost:8080/",
          "height": 452
        },
        "id": "4jXuRYau0dsT",
        "outputId": "931a0540-bb48-4ee0-d54f-0b7a59b9ef0d"
      },
      "execution_count": 100,
      "outputs": [
        {
          "output_type": "stream",
          "name": "stdout",
          "text": [
            "майка\n"
          ]
        },
        {
          "output_type": "display_data",
          "data": {
            "text/plain": [
              "<Figure size 640x480 with 2 Axes>"
            ],
            "image/png": "[encoded data removed]"
          },
          "metadata": {}
        }
      ]
    },
    {
      "cell_type": "code",
      "source": [],
      "metadata": {
        "id": "CUw6yywJysiH"
      },
      "execution_count": null,
      "outputs": []
    }
  ]
}