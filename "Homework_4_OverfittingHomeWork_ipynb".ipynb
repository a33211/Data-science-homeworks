{
  "nbformat": 4,
  "nbformat_minor": 0,
  "metadata": {
    "anaconda-cloud": {},
    "kernelspec": {
      "display_name": "Python 2",
      "language": "python",
      "name": "python2"
    },
    "language_info": {
      "codemirror_mode": {
        "name": "ipython",
        "version": 2
      },
      "file_extension": ".py",
      "mimetype": "text/x-python",
      "name": "python",
      "nbconvert_exporter": "python",
      "pygments_lexer": "ipython2",
      "version": "2.7.15"
    },
    "colab": {
      "provenance": [],
      "include_colab_link": true
    }
  },
  "cells": [
    {
      "cell_type": "markdown",
      "metadata": {
        "id": "view-in-github",
        "colab_type": "text"
      },
      "source": [
        "<a href=\"https://colab.research.google.com/github/a33211/Data-science-homeworks/blob/main/%22Homework_4_OverfittingHomeWork_ipynb%22.ipynb\" target=\"_parent\"><img src=\"https://colab.research.google.com/assets/colab-badge.svg\" alt=\"Open In Colab\"/></a>"
      ]
    },
    {
      "cell_type": "markdown",
      "metadata": {
        "id": "QH4MTNLJF0cX"
      },
      "source": [
        "# Линейная регрессия: переобучение и регуляризация"
      ]
    },
    {
      "cell_type": "markdown",
      "metadata": {
        "id": "_4Ozl-xzF0cb"
      },
      "source": [
        "В этом задании мы на примерах увидим, как переобучаются линейные модели, разберем, почему так происходит, и выясним, как диагностировать и контролировать переобучение.\n",
        "\n",
        "Во всех ячейках, где написан комментарий с инструкциями, нужно написать код, выполняющий эти инструкции. Остальные ячейки с кодом (без комментариев) нужно просто выполнить. Кроме того, в задании требуется отвечать на вопросы; ответы нужно вписывать после выделенного слова \"__Ответ:__\"."
      ]
    },
    {
      "cell_type": "code",
      "metadata": {
        "id": "Q7qwUYsiF0cc"
      },
      "source": [
        "import pandas as pd\n",
        "import numpy as np\n",
        "from matplotlib import pyplot as plt\n",
        "import seaborn as sns\n",
        "%matplotlib inline"
      ],
      "execution_count": 1,
      "outputs": []
    },
    {
      "cell_type": "markdown",
      "metadata": {
        "id": "lAIZa5LXF0ce"
      },
      "source": [
        "Мы будем работать с датасетом __\"bikes_rent.csv\"__, в котором по дням записаны календарная информация и погодные условия, характеризующие автоматизированные пункты проката велосипедов, а также число прокатов в этот день. Последнее мы будем предсказывать; таким образом, мы будем решать задачу регрессии."
      ]
    },
    {
      "cell_type": "markdown",
      "metadata": {
        "id": "bL3VD-Z9F0ce"
      },
      "source": [
        "### Знакомство с данными"
      ]
    },
    {
      "cell_type": "markdown",
      "metadata": {
        "id": "PlxEpVFqghIe"
      },
      "source": [
        "## Задание 1"
      ]
    },
    {
      "cell_type": "markdown",
      "metadata": {
        "id": "5HYQjYnVF0cf"
      },
      "source": [
        "Загрузите датасет с помощью функции __pandas.read_csv__ в переменную __df__. Выведите первые 5 строчек, чтобы убедиться в корректном считывании данных:"
      ]
    },
    {
      "cell_type": "code",
      "source": [
        "from google.colab import drive\n",
        "drive.mount('/content/drive')"
      ],
      "metadata": {
        "colab": {
          "base_uri": "https://localhost:8080/"
        },
        "id": "Rqf6-Z7EXc_0",
        "outputId": "d32ef10a-b722-49bd-b39f-e8ee7de1b1bd"
      },
      "execution_count": 3,
      "outputs": [
        {
          "output_type": "stream",
          "name": "stdout",
          "text": [
            "Mounted at /content/drive\n"
          ]
        }
      ]
    },
    {
      "cell_type": "code",
      "metadata": {
        "id": "moafDqLOF0cf",
        "outputId": "e6ad09c9-1957-42ee-b046-12ed1be62125",
        "colab": {
          "base_uri": "https://localhost:8080/"
        }
      },
      "source": [
        "df = pd.read_csv('/content/drive/MyDrive/GOIT_DS_Course_data/bikes_rent.csv')\n",
        "#df.head(5)\n",
        "df.columns"
      ],
      "execution_count": 4,
      "outputs": [
        {
          "output_type": "execute_result",
          "data": {
            "text/plain": [
              "Index(['season', 'yr', 'mnth', 'holiday', 'weekday', 'workingday',\n",
              "       'weathersit', 'temp', 'atemp', 'hum', 'windspeed(mph)', 'windspeed(ms)',\n",
              "       'cnt'],\n",
              "      dtype='object')"
            ]
          },
          "metadata": {},
          "execution_count": 4
        }
      ]
    },
    {
      "cell_type": "markdown",
      "metadata": {
        "id": "arebsdFoF0ch"
      },
      "source": [
        "Для каждого дня проката известны следующие признаки:\n",
        "* _season_: 1 - весна, 2 - лето, 3 - осень, 4 - зима\n",
        "* _yr_: 0 - 2011, 1 - 2012\n",
        "* _mnth_: от 1 до 12\n",
        "* _holiday_: 0 - нет праздника, 1 - есть праздник\n",
        "* _weekday_: от 0 до 6\n",
        "* _workingday_: 0 - нерабочий день, 1 - рабочий день\n",
        "* _weathersit_: оценка благоприятности погоды от 1 (чистый, ясный день) до 4 (ливень, туман)\n",
        "* _temp_: температура в Цельсиях\n",
        "* _atemp_: температура по ощущениям в Цельсиях\n",
        "* _hum_: влажность\n",
        "* _windspeed(mph)_: скорость ветра в милях в час\n",
        "* _windspeed(ms)_: скорость ветра в метрах в секунду\n",
        "* _cnt_: количество арендованных велосипедов (это целевой признак, его мы будем предсказывать)\n",
        "\n",
        "Итак, у нас есть вещественные, бинарные и номинальные (порядковые) признаки, и со всеми из них можно работать как с вещественными. С номинальныеми признаками тоже можно работать как с вещественными, потому что на них задан порядок. Давайте посмотрим на графиках, как целевой признак зависит от остальных"
      ]
    },
    {
      "cell_type": "markdown",
      "metadata": {
        "id": "w_bf05QXe60r"
      },
      "source": [
        "Постройте графики зависимостей атрибутов от количества поездок. Другими словами вам нужно построить 12 графиков. На каждом должна быть изображена зависимость очередного атрибута от переменной **cnt**."
      ]
    },
    {
      "cell_type": "code",
      "metadata": {
        "id": "N72yVVRYF0ci",
        "colab": {
          "base_uri": "https://localhost:8080/",
          "height": 1000
        },
        "outputId": "456d25ff-c93e-47c1-be70-04e08a86fd51"
      },
      "source": [
        "sns.pairplot(df,\n",
        "             vars = ['season', 'yr', 'mnth', 'holiday'],\n",
        "             hue = 'cnt')"
      ],
      "execution_count": null,
      "outputs": [
        {
          "output_type": "error",
          "ename": "KeyboardInterrupt",
          "evalue": "ignored",
          "traceback": [
            "\u001b[0;31m---------------------------------------------------------------------------\u001b[0m",
            "\u001b[0;31mKeyboardInterrupt\u001b[0m                         Traceback (most recent call last)",
            "\u001b[0;32m<ipython-input-19-57c7e2aac697>\u001b[0m in \u001b[0;36m<cell line: 1>\u001b[0;34m()\u001b[0m\n\u001b[0;32m----> 1\u001b[0;31m sns.pairplot(df,\n\u001b[0m\u001b[1;32m      2\u001b[0m              \u001b[0mvars\u001b[0m \u001b[0;34m=\u001b[0m \u001b[0;34m[\u001b[0m\u001b[0;34m'season'\u001b[0m\u001b[0;34m,\u001b[0m \u001b[0;34m'yr'\u001b[0m\u001b[0;34m,\u001b[0m \u001b[0;34m'mnth'\u001b[0m\u001b[0;34m,\u001b[0m \u001b[0;34m'holiday'\u001b[0m\u001b[0;34m]\u001b[0m\u001b[0;34m,\u001b[0m\u001b[0;34m\u001b[0m\u001b[0;34m\u001b[0m\u001b[0m\n\u001b[1;32m      3\u001b[0m              hue = 'cnt')\n",
            "\u001b[0;32m/usr/local/lib/python3.10/dist-packages/seaborn/axisgrid.py\u001b[0m in \u001b[0;36mpairplot\u001b[0;34m(data, hue, hue_order, palette, vars, x_vars, y_vars, kind, diag_kind, markers, height, aspect, corner, dropna, plot_kws, diag_kws, grid_kws, size)\u001b[0m\n\u001b[1;32m   2146\u001b[0m         \u001b[0mdiag_kws\u001b[0m\u001b[0;34m.\u001b[0m\u001b[0msetdefault\u001b[0m\u001b[0;34m(\u001b[0m\u001b[0;34m\"fill\"\u001b[0m\u001b[0;34m,\u001b[0m \u001b[0;32mTrue\u001b[0m\u001b[0;34m)\u001b[0m\u001b[0;34m\u001b[0m\u001b[0;34m\u001b[0m\u001b[0m\n\u001b[1;32m   2147\u001b[0m         \u001b[0mdiag_kws\u001b[0m\u001b[0;34m.\u001b[0m\u001b[0msetdefault\u001b[0m\u001b[0;34m(\u001b[0m\u001b[0;34m\"warn_singular\"\u001b[0m\u001b[0;34m,\u001b[0m \u001b[0;32mFalse\u001b[0m\u001b[0;34m)\u001b[0m\u001b[0;34m\u001b[0m\u001b[0;34m\u001b[0m\u001b[0m\n\u001b[0;32m-> 2148\u001b[0;31m         \u001b[0mgrid\u001b[0m\u001b[0;34m.\u001b[0m\u001b[0mmap_diag\u001b[0m\u001b[0;34m(\u001b[0m\u001b[0mkdeplot\u001b[0m\u001b[0;34m,\u001b[0m \u001b[0;34m**\u001b[0m\u001b[0mdiag_kws\u001b[0m\u001b[0;34m)\u001b[0m\u001b[0;34m\u001b[0m\u001b[0;34m\u001b[0m\u001b[0m\n\u001b[0m\u001b[1;32m   2149\u001b[0m \u001b[0;34m\u001b[0m\u001b[0m\n\u001b[1;32m   2150\u001b[0m     \u001b[0;31m# Maybe plot on the off-diagonals\u001b[0m\u001b[0;34m\u001b[0m\u001b[0;34m\u001b[0m\u001b[0m\n",
            "\u001b[0;32m/usr/local/lib/python3.10/dist-packages/seaborn/axisgrid.py\u001b[0m in \u001b[0;36mmap_diag\u001b[0;34m(self, func, **kwargs)\u001b[0m\n\u001b[1;32m   1505\u001b[0m             \u001b[0mplot_kwargs\u001b[0m\u001b[0;34m.\u001b[0m\u001b[0msetdefault\u001b[0m\u001b[0;34m(\u001b[0m\u001b[0;34m\"hue_order\"\u001b[0m\u001b[0;34m,\u001b[0m \u001b[0mself\u001b[0m\u001b[0;34m.\u001b[0m\u001b[0m_hue_order\u001b[0m\u001b[0;34m)\u001b[0m\u001b[0;34m\u001b[0m\u001b[0;34m\u001b[0m\u001b[0m\n\u001b[1;32m   1506\u001b[0m             \u001b[0mplot_kwargs\u001b[0m\u001b[0;34m.\u001b[0m\u001b[0msetdefault\u001b[0m\u001b[0;34m(\u001b[0m\u001b[0;34m\"palette\"\u001b[0m\u001b[0;34m,\u001b[0m \u001b[0mself\u001b[0m\u001b[0;34m.\u001b[0m\u001b[0m_orig_palette\u001b[0m\u001b[0;34m)\u001b[0m\u001b[0;34m\u001b[0m\u001b[0;34m\u001b[0m\u001b[0m\n\u001b[0;32m-> 1507\u001b[0;31m             \u001b[0mfunc\u001b[0m\u001b[0;34m(\u001b[0m\u001b[0mx\u001b[0m\u001b[0;34m=\u001b[0m\u001b[0mvector\u001b[0m\u001b[0;34m,\u001b[0m \u001b[0;34m**\u001b[0m\u001b[0mplot_kwargs\u001b[0m\u001b[0;34m)\u001b[0m\u001b[0;34m\u001b[0m\u001b[0;34m\u001b[0m\u001b[0m\n\u001b[0m\u001b[1;32m   1508\u001b[0m             \u001b[0max\u001b[0m\u001b[0;34m.\u001b[0m\u001b[0mlegend_\u001b[0m \u001b[0;34m=\u001b[0m \u001b[0;32mNone\u001b[0m\u001b[0;34m\u001b[0m\u001b[0;34m\u001b[0m\u001b[0m\n\u001b[1;32m   1509\u001b[0m \u001b[0;34m\u001b[0m\u001b[0m\n",
            "\u001b[0;32m/usr/local/lib/python3.10/dist-packages/seaborn/distributions.py\u001b[0m in \u001b[0;36mkdeplot\u001b[0;34m(data, x, y, hue, weights, palette, hue_order, hue_norm, color, fill, multiple, common_norm, common_grid, cumulative, bw_method, bw_adjust, warn_singular, log_scale, levels, thresh, gridsize, cut, clip, legend, cbar, cbar_ax, cbar_kws, ax, **kwargs)\u001b[0m\n\u001b[1;32m   1715\u001b[0m         \u001b[0mplot_kws\u001b[0m \u001b[0;34m=\u001b[0m \u001b[0mkwargs\u001b[0m\u001b[0;34m.\u001b[0m\u001b[0mcopy\u001b[0m\u001b[0;34m(\u001b[0m\u001b[0;34m)\u001b[0m\u001b[0;34m\u001b[0m\u001b[0;34m\u001b[0m\u001b[0m\n\u001b[1;32m   1716\u001b[0m \u001b[0;34m\u001b[0m\u001b[0m\n\u001b[0;32m-> 1717\u001b[0;31m         p.plot_univariate_density(\n\u001b[0m\u001b[1;32m   1718\u001b[0m             \u001b[0mmultiple\u001b[0m\u001b[0;34m=\u001b[0m\u001b[0mmultiple\u001b[0m\u001b[0;34m,\u001b[0m\u001b[0;34m\u001b[0m\u001b[0;34m\u001b[0m\u001b[0m\n\u001b[1;32m   1719\u001b[0m             \u001b[0mcommon_norm\u001b[0m\u001b[0;34m=\u001b[0m\u001b[0mcommon_norm\u001b[0m\u001b[0;34m,\u001b[0m\u001b[0;34m\u001b[0m\u001b[0;34m\u001b[0m\u001b[0m\n",
            "\u001b[0;32m/usr/local/lib/python3.10/dist-packages/seaborn/distributions.py\u001b[0m in \u001b[0;36mplot_univariate_density\u001b[0;34m(self, multiple, common_norm, common_grid, warn_singular, fill, color, legend, estimate_kws, **plot_kws)\u001b[0m\n\u001b[1;32m    935\u001b[0m \u001b[0;34m\u001b[0m\u001b[0m\n\u001b[1;32m    936\u001b[0m         \u001b[0;31m# Do the computation\u001b[0m\u001b[0;34m\u001b[0m\u001b[0;34m\u001b[0m\u001b[0m\n\u001b[0;32m--> 937\u001b[0;31m         densities = self._compute_univariate_density(\n\u001b[0m\u001b[1;32m    938\u001b[0m             \u001b[0mself\u001b[0m\u001b[0;34m.\u001b[0m\u001b[0mdata_variable\u001b[0m\u001b[0;34m,\u001b[0m\u001b[0;34m\u001b[0m\u001b[0;34m\u001b[0m\u001b[0m\n\u001b[1;32m    939\u001b[0m             \u001b[0mcommon_norm\u001b[0m\u001b[0;34m,\u001b[0m\u001b[0;34m\u001b[0m\u001b[0;34m\u001b[0m\u001b[0m\n",
            "\u001b[0;32m/usr/local/lib/python3.10/dist-packages/seaborn/distributions.py\u001b[0m in \u001b[0;36m_compute_univariate_density\u001b[0;34m(self, data_variable, common_norm, common_grid, estimate_kws, log_scale, warn_singular)\u001b[0m\n\u001b[1;32m    327\u001b[0m         \u001b[0mdensities\u001b[0m \u001b[0;34m=\u001b[0m \u001b[0;34m{\u001b[0m\u001b[0;34m}\u001b[0m\u001b[0;34m\u001b[0m\u001b[0;34m\u001b[0m\u001b[0m\n\u001b[1;32m    328\u001b[0m \u001b[0;34m\u001b[0m\u001b[0m\n\u001b[0;32m--> 329\u001b[0;31m         \u001b[0;32mfor\u001b[0m \u001b[0msub_vars\u001b[0m\u001b[0;34m,\u001b[0m \u001b[0msub_data\u001b[0m \u001b[0;32min\u001b[0m \u001b[0mself\u001b[0m\u001b[0;34m.\u001b[0m\u001b[0miter_data\u001b[0m\u001b[0;34m(\u001b[0m\u001b[0;34m\"hue\"\u001b[0m\u001b[0;34m,\u001b[0m \u001b[0mfrom_comp_data\u001b[0m\u001b[0;34m=\u001b[0m\u001b[0;32mTrue\u001b[0m\u001b[0;34m)\u001b[0m\u001b[0;34m:\u001b[0m\u001b[0;34m\u001b[0m\u001b[0;34m\u001b[0m\u001b[0m\n\u001b[0m\u001b[1;32m    330\u001b[0m \u001b[0;34m\u001b[0m\u001b[0m\n\u001b[1;32m    331\u001b[0m             \u001b[0;31m# Extract the data points from this sub set and remove nulls\u001b[0m\u001b[0;34m\u001b[0m\u001b[0;34m\u001b[0m\u001b[0m\n",
            "\u001b[0;32m/usr/local/lib/python3.10/dist-packages/seaborn/_oldcore.py\u001b[0m in \u001b[0;36miter_data\u001b[0;34m(self, grouping_vars, reverse, from_comp_data, by_facet, allow_empty, dropna)\u001b[0m\n\u001b[1;32m   1073\u001b[0m \u001b[0;34m\u001b[0m\u001b[0m\n\u001b[1;32m   1074\u001b[0m                 \u001b[0;32mtry\u001b[0m\u001b[0;34m:\u001b[0m\u001b[0;34m\u001b[0m\u001b[0;34m\u001b[0m\u001b[0m\n\u001b[0;32m-> 1075\u001b[0;31m                     \u001b[0mdata_subset\u001b[0m \u001b[0;34m=\u001b[0m \u001b[0mgrouped_data\u001b[0m\u001b[0;34m.\u001b[0m\u001b[0mget_group\u001b[0m\u001b[0;34m(\u001b[0m\u001b[0mpd_key\u001b[0m\u001b[0;34m)\u001b[0m\u001b[0;34m\u001b[0m\u001b[0;34m\u001b[0m\u001b[0m\n\u001b[0m\u001b[1;32m   1076\u001b[0m                 \u001b[0;32mexcept\u001b[0m \u001b[0mKeyError\u001b[0m\u001b[0;34m:\u001b[0m\u001b[0;34m\u001b[0m\u001b[0;34m\u001b[0m\u001b[0m\n\u001b[1;32m   1077\u001b[0m                     \u001b[0;31m# XXX we are adding this to allow backwards compatibility\u001b[0m\u001b[0;34m\u001b[0m\u001b[0;34m\u001b[0m\u001b[0m\n",
            "\u001b[0;32m/usr/local/lib/python3.10/dist-packages/pandas/core/groupby/groupby.py\u001b[0m in \u001b[0;36mget_group\u001b[0;34m(self, name, obj)\u001b[0m\n\u001b[1;32m    817\u001b[0m             \u001b[0;32mraise\u001b[0m \u001b[0mKeyError\u001b[0m\u001b[0;34m(\u001b[0m\u001b[0mname\u001b[0m\u001b[0;34m)\u001b[0m\u001b[0;34m\u001b[0m\u001b[0;34m\u001b[0m\u001b[0m\n\u001b[1;32m    818\u001b[0m \u001b[0;34m\u001b[0m\u001b[0m\n\u001b[0;32m--> 819\u001b[0;31m         \u001b[0;32mreturn\u001b[0m \u001b[0mobj\u001b[0m\u001b[0;34m.\u001b[0m\u001b[0m_take_with_is_copy\u001b[0m\u001b[0;34m(\u001b[0m\u001b[0minds\u001b[0m\u001b[0;34m,\u001b[0m \u001b[0maxis\u001b[0m\u001b[0;34m=\u001b[0m\u001b[0mself\u001b[0m\u001b[0;34m.\u001b[0m\u001b[0maxis\u001b[0m\u001b[0;34m)\u001b[0m\u001b[0;34m\u001b[0m\u001b[0;34m\u001b[0m\u001b[0m\n\u001b[0m\u001b[1;32m    820\u001b[0m \u001b[0;34m\u001b[0m\u001b[0m\n\u001b[1;32m    821\u001b[0m     \u001b[0;34m@\u001b[0m\u001b[0mfinal\u001b[0m\u001b[0;34m\u001b[0m\u001b[0;34m\u001b[0m\u001b[0m\n",
            "\u001b[0;32m/usr/local/lib/python3.10/dist-packages/pandas/core/generic.py\u001b[0m in \u001b[0;36m_take_with_is_copy\u001b[0;34m(self, indices, axis)\u001b[0m\n\u001b[1;32m   3900\u001b[0m         \u001b[0mSee\u001b[0m \u001b[0mthe\u001b[0m \u001b[0mdocstring\u001b[0m \u001b[0mof\u001b[0m\u001b[0;31m \u001b[0m\u001b[0;31m`\u001b[0m\u001b[0mtake\u001b[0m\u001b[0;31m`\u001b[0m \u001b[0;32mfor\u001b[0m \u001b[0mfull\u001b[0m \u001b[0mexplanation\u001b[0m \u001b[0mof\u001b[0m \u001b[0mthe\u001b[0m \u001b[0mparameters\u001b[0m\u001b[0;34m.\u001b[0m\u001b[0;34m\u001b[0m\u001b[0;34m\u001b[0m\u001b[0m\n\u001b[1;32m   3901\u001b[0m         \"\"\"\n\u001b[0;32m-> 3902\u001b[0;31m         \u001b[0mresult\u001b[0m \u001b[0;34m=\u001b[0m \u001b[0mself\u001b[0m\u001b[0;34m.\u001b[0m\u001b[0m_take\u001b[0m\u001b[0;34m(\u001b[0m\u001b[0mindices\u001b[0m\u001b[0;34m=\u001b[0m\u001b[0mindices\u001b[0m\u001b[0;34m,\u001b[0m \u001b[0maxis\u001b[0m\u001b[0;34m=\u001b[0m\u001b[0maxis\u001b[0m\u001b[0;34m)\u001b[0m\u001b[0;34m\u001b[0m\u001b[0;34m\u001b[0m\u001b[0m\n\u001b[0m\u001b[1;32m   3903\u001b[0m         \u001b[0;31m# Maybe set copy if we didn't actually change the index.\u001b[0m\u001b[0;34m\u001b[0m\u001b[0;34m\u001b[0m\u001b[0m\n\u001b[1;32m   3904\u001b[0m         \u001b[0;32mif\u001b[0m \u001b[0;32mnot\u001b[0m \u001b[0mresult\u001b[0m\u001b[0;34m.\u001b[0m\u001b[0m_get_axis\u001b[0m\u001b[0;34m(\u001b[0m\u001b[0maxis\u001b[0m\u001b[0;34m)\u001b[0m\u001b[0;34m.\u001b[0m\u001b[0mequals\u001b[0m\u001b[0;34m(\u001b[0m\u001b[0mself\u001b[0m\u001b[0;34m.\u001b[0m\u001b[0m_get_axis\u001b[0m\u001b[0;34m(\u001b[0m\u001b[0maxis\u001b[0m\u001b[0;34m)\u001b[0m\u001b[0;34m)\u001b[0m\u001b[0;34m:\u001b[0m\u001b[0;34m\u001b[0m\u001b[0;34m\u001b[0m\u001b[0m\n",
            "\u001b[0;32m/usr/local/lib/python3.10/dist-packages/pandas/core/generic.py\u001b[0m in \u001b[0;36m_take\u001b[0;34m(self, indices, axis, convert_indices)\u001b[0m\n\u001b[1;32m   3884\u001b[0m         \u001b[0mself\u001b[0m\u001b[0;34m.\u001b[0m\u001b[0m_consolidate_inplace\u001b[0m\u001b[0;34m(\u001b[0m\u001b[0;34m)\u001b[0m\u001b[0;34m\u001b[0m\u001b[0;34m\u001b[0m\u001b[0m\n\u001b[1;32m   3885\u001b[0m \u001b[0;34m\u001b[0m\u001b[0m\n\u001b[0;32m-> 3886\u001b[0;31m         new_data = self._mgr.take(\n\u001b[0m\u001b[1;32m   3887\u001b[0m             \u001b[0mindices\u001b[0m\u001b[0;34m,\u001b[0m\u001b[0;34m\u001b[0m\u001b[0;34m\u001b[0m\u001b[0m\n\u001b[1;32m   3888\u001b[0m             \u001b[0maxis\u001b[0m\u001b[0;34m=\u001b[0m\u001b[0mself\u001b[0m\u001b[0;34m.\u001b[0m\u001b[0m_get_block_manager_axis\u001b[0m\u001b[0;34m(\u001b[0m\u001b[0maxis\u001b[0m\u001b[0;34m)\u001b[0m\u001b[0;34m,\u001b[0m\u001b[0;34m\u001b[0m\u001b[0;34m\u001b[0m\u001b[0m\n",
            "\u001b[0;32m/usr/local/lib/python3.10/dist-packages/pandas/core/internals/managers.py\u001b[0m in \u001b[0;36mtake\u001b[0;34m(self, indexer, axis, verify, convert_indices)\u001b[0m\n\u001b[1;32m    971\u001b[0m         )\n\u001b[1;32m    972\u001b[0m \u001b[0;34m\u001b[0m\u001b[0m\n\u001b[0;32m--> 973\u001b[0;31m         \u001b[0mn\u001b[0m \u001b[0;34m=\u001b[0m \u001b[0mself\u001b[0m\u001b[0;34m.\u001b[0m\u001b[0mshape\u001b[0m\u001b[0;34m[\u001b[0m\u001b[0maxis\u001b[0m\u001b[0;34m]\u001b[0m\u001b[0;34m\u001b[0m\u001b[0;34m\u001b[0m\u001b[0m\n\u001b[0m\u001b[1;32m    974\u001b[0m         \u001b[0;32mif\u001b[0m \u001b[0mconvert_indices\u001b[0m\u001b[0;34m:\u001b[0m\u001b[0;34m\u001b[0m\u001b[0;34m\u001b[0m\u001b[0m\n\u001b[1;32m    975\u001b[0m             \u001b[0mindexer\u001b[0m \u001b[0;34m=\u001b[0m \u001b[0mmaybe_convert_indices\u001b[0m\u001b[0;34m(\u001b[0m\u001b[0mindexer\u001b[0m\u001b[0;34m,\u001b[0m \u001b[0mn\u001b[0m\u001b[0;34m,\u001b[0m \u001b[0mverify\u001b[0m\u001b[0;34m=\u001b[0m\u001b[0mverify\u001b[0m\u001b[0;34m)\u001b[0m\u001b[0;34m\u001b[0m\u001b[0;34m\u001b[0m\u001b[0m\n",
            "\u001b[0;32m/usr/local/lib/python3.10/dist-packages/pandas/core/internals/base.py\u001b[0m in \u001b[0;36mshape\u001b[0;34m(self)\u001b[0m\n\u001b[1;32m     54\u001b[0m     \u001b[0;34m@\u001b[0m\u001b[0mproperty\u001b[0m\u001b[0;34m\u001b[0m\u001b[0;34m\u001b[0m\u001b[0m\n\u001b[1;32m     55\u001b[0m     \u001b[0;32mdef\u001b[0m \u001b[0mshape\u001b[0m\u001b[0;34m(\u001b[0m\u001b[0mself\u001b[0m\u001b[0;34m)\u001b[0m \u001b[0;34m->\u001b[0m \u001b[0mShape\u001b[0m\u001b[0;34m:\u001b[0m\u001b[0;34m\u001b[0m\u001b[0;34m\u001b[0m\u001b[0m\n\u001b[0;32m---> 56\u001b[0;31m         \u001b[0;32mreturn\u001b[0m \u001b[0mtuple\u001b[0m\u001b[0;34m(\u001b[0m\u001b[0mlen\u001b[0m\u001b[0;34m(\u001b[0m\u001b[0max\u001b[0m\u001b[0;34m)\u001b[0m \u001b[0;32mfor\u001b[0m \u001b[0max\u001b[0m \u001b[0;32min\u001b[0m \u001b[0mself\u001b[0m\u001b[0;34m.\u001b[0m\u001b[0maxes\u001b[0m\u001b[0;34m)\u001b[0m\u001b[0;34m\u001b[0m\u001b[0;34m\u001b[0m\u001b[0m\n\u001b[0m\u001b[1;32m     57\u001b[0m \u001b[0;34m\u001b[0m\u001b[0m\n\u001b[1;32m     58\u001b[0m     \u001b[0;34m@\u001b[0m\u001b[0mfinal\u001b[0m\u001b[0;34m\u001b[0m\u001b[0;34m\u001b[0m\u001b[0m\n",
            "\u001b[0;31mKeyboardInterrupt\u001b[0m: "
          ]
        },
        {
          "output_type": "display_data",
          "data": {
            "text/plain": [
              "<Figure size 1000x1000 with 20 Axes>"
            ],
            "image/png": "[encoded data removed]"
          },
          "metadata": {}
        }
      ]
    },
    {
      "cell_type": "markdown",
      "metadata": {
        "id": "1g8iwiimF0cj"
      },
      "source": [
        "__Вопросы:__\n",
        "1. Каков характер зависимости числа прокатов от месяца?\n",
        "1. Укажите один или два признака, от которых число прокатов скорее всего зависит линейно"
      ]
    },
    {
      "cell_type": "markdown",
      "metadata": {
        "id": "rB2NCSXbF0cj"
      },
      "source": [
        "## Задание 2\n",
        "\n",
        "Давайте более строго оценим уровень линейной зависимости между признаками и целевой переменной. Хорошей мерой линейной зависимости между двумя векторами является корреляция Пирсона. Нам уже приходилось иметь с ней дело раньше. Для ее вычисления в pandas можно использовать методы датафрейма: corr и corrwith."
      ]
    },
    {
      "cell_type": "markdown",
      "metadata": {
        "id": "ykR_leNKF0ck"
      },
      "source": [
        "Посчитайте корреляции всех признаков, кроме последнего, с последним с помощью метода `corrwith`."
      ]
    },
    {
      "cell_type": "code",
      "metadata": {
        "id": "v3RlugT3F0ck",
        "colab": {
          "base_uri": "https://localhost:8080/"
        },
        "outputId": "60758e09-6944-45d9-9072-de11f1b83ec4"
      },
      "source": [
        "df_corr1 = pd.DataFrame(df['cnt'])\n",
        "df_corr = df.corrwith(df_corr1)\n",
        "\n",
        "df_corr\n"
      ],
      "execution_count": 5,
      "outputs": [
        {
          "output_type": "execute_result",
          "data": {
            "text/plain": [
              "cnt               1.0\n",
              "atemp             NaN\n",
              "holiday           NaN\n",
              "hum               NaN\n",
              "mnth              NaN\n",
              "season            NaN\n",
              "temp              NaN\n",
              "weathersit        NaN\n",
              "weekday           NaN\n",
              "windspeed(mph)    NaN\n",
              "windspeed(ms)     NaN\n",
              "workingday        NaN\n",
              "yr                NaN\n",
              "dtype: float64"
            ]
          },
          "metadata": {},
          "execution_count": 5
        }
      ]
    },
    {
      "cell_type": "markdown",
      "metadata": {
        "id": "ovV_DO35F0cl"
      },
      "source": [
        "В выборке есть признаки, коррелирующие с целевым, а значит, задачу можно решать линейными методами."
      ]
    },
    {
      "cell_type": "markdown",
      "metadata": {
        "id": "r0dre43ZF0cl"
      },
      "source": [
        "По графикам видно, что некоторые признаки похожи друг на друга. Поэтому давайте также посчитаем корреляции между вещественными признаками."
      ]
    },
    {
      "cell_type": "markdown",
      "metadata": {
        "id": "Wga1WJDkF0cl"
      },
      "source": [
        "## Задание 3\n",
        "\n",
        "Посчитайте попарные корреляции между признаками temp, atemp, hum, windspeed(mph), windspeed(ms) и cnt\n",
        "с помощью метода corr:"
      ]
    },
    {
      "cell_type": "code",
      "metadata": {
        "id": "1rSOhITgF0cm",
        "colab": {
          "base_uri": "https://localhost:8080/",
          "height": 570
        },
        "outputId": "f419d188-0c2d-4818-f2ae-8b9844f6fe4f"
      },
      "source": [
        "df_corr = df[[ 'temp', 'atemp', 'hum', 'windspeed(mph)', 'windspeed(ms)', 'cnt']].corr()\n",
        "plt.figure(figsize = (6, 5))\n",
        "sns.heatmap(df_corr, annot = True)"
      ],
      "execution_count": null,
      "outputs": [
        {
          "output_type": "execute_result",
          "data": {
            "text/plain": [
              "<Axes: >"
            ]
          },
          "metadata": {},
          "execution_count": 21
        },
        {
          "output_type": "display_data",
          "data": {
            "text/plain": [
              "<Figure size 600x500 with 2 Axes>"
            ],
            "image/png": "[encoded data removed]"
          },
          "metadata": {}
        }
      ]
    },
    {
      "cell_type": "markdown",
      "metadata": {
        "id": "Ooc4syvaF0cm"
      },
      "source": [
        "На диагоналях, как и полагается, стоят единицы. Однако в матрице имеются еще две пары сильно коррелирующих столбцов: temp и atemp (коррелируют по своей природе) и два windspeed (потому что это просто перевод одних единиц в другие). Далее мы увидим, что этот факт негативно сказывается на обучении линейной модели."
      ]
    },
    {
      "cell_type": "markdown",
      "metadata": {
        "id": "t-w2-4DbF0cm"
      },
      "source": [
        "Напоследок посмотрим средние признаков (метод mean), чтобы оценить масштаб признаков и доли 1 у бинарных признаков."
      ]
    },
    {
      "cell_type": "markdown",
      "metadata": {
        "id": "Ml3jlosnF0cm"
      },
      "source": [
        "## Задание 4\n",
        "\n",
        "Выведите средние признаков"
      ]
    },
    {
      "cell_type": "code",
      "metadata": {
        "id": "zg7yBN9YF0cn",
        "colab": {
          "base_uri": "https://localhost:8080/"
        },
        "outputId": "d5604508-c254-4b33-8566-cd72bb830f02"
      },
      "source": [
        "df2 = df.mean(axis=0)\n",
        "df2"
      ],
      "execution_count": 6,
      "outputs": [
        {
          "output_type": "execute_result",
          "data": {
            "text/plain": [
              "season               2.496580\n",
              "yr                   0.500684\n",
              "mnth                 6.519836\n",
              "holiday              0.028728\n",
              "weekday              2.997264\n",
              "workingday           0.683995\n",
              "weathersit           1.395349\n",
              "temp                20.310776\n",
              "atemp               23.717699\n",
              "hum                 62.789406\n",
              "windspeed(mph)      12.762576\n",
              "windspeed(ms)        5.705220\n",
              "cnt               4504.348837\n",
              "dtype: float64"
            ]
          },
          "metadata": {},
          "execution_count": 6
        }
      ]
    },
    {
      "cell_type": "markdown",
      "metadata": {
        "id": "2i9pGW4TF0cn"
      },
      "source": [
        "Признаки имеют разный масштаб, значит для дальнейшей работы нам лучше нормировать матрицу объекты-признаки."
      ]
    },
    {
      "cell_type": "markdown",
      "metadata": {
        "id": "-RTwV3e_F0cn"
      },
      "source": [
        "### Проблема первая: коллинеарные признаки"
      ]
    },
    {
      "cell_type": "markdown",
      "metadata": {
        "id": "SSmpjxmrF0co"
      },
      "source": [
        "Итак, в наших данных один признак дублирует другой, и есть еще два очень похожих. Конечно, мы могли бы сразу удалить дубликаты, но давайте посмотрим, как бы происходило обучение модели, если бы мы не заметили эту проблему. \n",
        "\n",
        "Для начала проведем масштабирование, или стандартизацию признаков: из каждого признака вычтем его среднее и поделим на стандартное отклонение. Это можно сделать с помощью метода scale.\n",
        "\n",
        "Кроме того, нужно перемешать выборку, это потребуется для кросс-валидации."
      ]
    },
    {
      "cell_type": "code",
      "metadata": {
        "id": "jkGjoC9QF0co"
      },
      "source": [
        "from sklearn.preprocessing import scale\n",
        "from sklearn.utils import shuffle"
      ],
      "execution_count": 7,
      "outputs": []
    },
    {
      "cell_type": "code",
      "metadata": {
        "id": "9JnmTmeKF0co"
      },
      "source": [
        "df_shuffled = shuffle(df, random_state=42)\n",
        "X = scale(df_shuffled[df_shuffled.columns[:-1]])\n",
        "y = df_shuffled[\"cnt\"]"
      ],
      "execution_count": 8,
      "outputs": []
    },
    {
      "cell_type": "markdown",
      "metadata": {
        "id": "wEvKSbrFF0co"
      },
      "source": [
        "Давайте обучим линейную регрессию на наших данных и посмотрим на веса признаков."
      ]
    },
    {
      "cell_type": "code",
      "metadata": {
        "id": "Q9DAkdS1F0cp"
      },
      "source": [
        "from sklearn.linear_model import LinearRegression"
      ],
      "execution_count": 9,
      "outputs": []
    },
    {
      "cell_type": "markdown",
      "metadata": {
        "id": "-8Cc-xhqF0cp"
      },
      "source": [
        "## Задание 5\n",
        "\n",
        "Создайте объект линейного регрессора, обучите его на всех данных и выведите веса модели (веса хранятся в переменной `coef_` класса регрессора). Можно выводить пары (название признака, вес), воспользовавшись функцией `zip`, встроенной в язык python. Названия признаков хранятся в переменной `df.columns`.\n"
      ]
    },
    {
      "cell_type": "code",
      "metadata": {
        "id": "EYFEkeI0F0cp",
        "colab": {
          "base_uri": "https://localhost:8080/"
        },
        "outputId": "819f2507-1182-4767-e5cc-3c21ecfe71ac"
      },
      "source": [
        "reg = LinearRegression().fit(X, y)\n",
        "reg = list(zip(df.columns,reg.coef_))\n",
        "reg"
      ],
      "execution_count": 10,
      "outputs": [
        {
          "output_type": "execute_result",
          "data": {
            "text/plain": [
              "[('season', 570.8637960129914),\n",
              " ('yr', 1021.9653779400622),\n",
              " ('mnth', -141.3017451148728),\n",
              " ('holiday', -86.7593446245368),\n",
              " ('weekday', 137.22506441350538),\n",
              " ('workingday', 56.391881775973005),\n",
              " ('weathersit', -330.2264620440312),\n",
              " ('temp', 367.48373260182126),\n",
              " ('atemp', 585.5493861188597),\n",
              " ('hum', -145.61430569885857),\n",
              " ('windspeed(mph)', 12457138390688.885),\n",
              " ('windspeed(ms)', -12457138390887.346)]"
            ]
          },
          "metadata": {},
          "execution_count": 10
        }
      ]
    },
    {
      "cell_type": "markdown",
      "metadata": {
        "id": "EXHziiV-F0cp"
      },
      "source": [
        "Мы видим, что веса при линейно-зависимых признаках по модулю значительно больше, чем при других признаках. Чтобы понять, почему так произошло, вспомним аналитическую формулу, по которой вычисляются веса линейной модели в методе наименьших квадратов:\n",
        "\n",
        "$$w = (X^TX)^{-1} X^T y$$\n",
        "\n",
        "Если в $X$ есть коллинеарные (линейно-зависимые) столбцы, матрица $X^TX$ становится вырожденной, и формула перестает быть корректной. Чем более зависимы признаки, тем меньше определитель этой матрицы и тем хуже аппроксимация $Xw \\approx y$. Такая ситуацию называют _проблемой мультиколлинеарности_."
      ]
    },
    {
      "cell_type": "markdown",
      "metadata": {
        "id": "PIX0I5LQF0cq"
      },
      "source": [
        "С парой (temp, atemp) чуть менее коррелирующих переменных такого не произошло, однако на практике всегда стоит внимательно следить за коэффициентами при похожих признаках."
      ]
    },
    {
      "cell_type": "markdown",
      "metadata": {
        "id": "vkXwN1tKF0cq"
      },
      "source": [
        "Для того, чтобы решить проблему мультиколлинеарности нужно воспользоваться регуляризатором. К оптимизируемому функционалу прибавляют $L_1$ или $L_2$ норму весов, умноженную на коэффициент регуляризации $\\alpha$. В первом случае метод называется Lasso, а во втором --- Ridge."
      ]
    },
    {
      "cell_type": "markdown",
      "metadata": {
        "id": "FT2oVbm1F0cq"
      },
      "source": [
        "### Задание 6\n",
        "Давайте попробуем обучить линейные модели с $L_1$ и $L_2$-регуляризацией, а далее сравним их веса. Обучите регрессоры Ridge и Lasso с параметрами по умолчанию и убедитесь, что проблема с весами решилась."
      ]
    },
    {
      "cell_type": "markdown",
      "metadata": {
        "id": "Rw0SDNemF0cq"
      },
      "source": [
        "Обучите линейную модель с $L_1$-регуляризацией (класс Lasso) и выведите веса"
      ]
    },
    {
      "cell_type": "code",
      "metadata": {
        "id": "A2U5BrZ9F0cr",
        "outputId": "44413e34-781a-426b-8da1-3d75d83b47f2",
        "colab": {
          "base_uri": "https://localhost:8080/"
        }
      },
      "source": [
        "# Put your code here\n",
        "from sklearn import linear_model\n",
        "reg_lasso = linear_model.Lasso(alpha=0.1).fit(X, y)\n",
        "reg_lasso.fit(X, y)\n",
        "reg_lasso = list(zip(df.columns,reg_lasso.coef_))\n",
        "reg_lasso"
      ],
      "execution_count": 11,
      "outputs": [
        {
          "output_type": "execute_result",
          "data": {
            "text/plain": [
              "[('season', 565.3216570612018),\n",
              " ('yr', 1020.2561015161349),\n",
              " ('mnth', -133.89500587503778),\n",
              " ('holiday', -86.66727917692955),\n",
              " ('weekday', 138.21983421616665),\n",
              " ('workingday', 55.87035675016136),\n",
              " ('weathersit', -332.69555472955386),\n",
              " ('temp', 377.3683235504604),\n",
              " ('atemp', 575.6727820441071),\n",
              " ('hum', -144.87124671813464),\n",
              " ('windspeed(mph)', -198.10557751370823),\n",
              " ('windspeed(ms)', -2.8284808432494093e-08)]"
            ]
          },
          "metadata": {},
          "execution_count": 11
        }
      ]
    },
    {
      "cell_type": "markdown",
      "metadata": {
        "id": "h7MpUkWyF0cr"
      },
      "source": [
        "Обучите линейную модель с $L_2$-регуляризацией (класс Ridge) и выведите веса"
      ]
    },
    {
      "cell_type": "code",
      "metadata": {
        "id": "u4BnooUuF0cr",
        "outputId": "ad94bfd4-a262-4a50-a883-dda5e7efe217",
        "colab": {
          "base_uri": "https://localhost:8080/"
        }
      },
      "source": [
        "# Put your code here\n",
        "from sklearn.linear_model import Ridge\n",
        "reg_ridge = Ridge(alpha=1.0)\n",
        "reg_ridge.fit(X, y)\n",
        "reg_ridge = list(zip(df.columns,reg_ridge.coef_))\n",
        "reg_ridge"
      ],
      "execution_count": 12,
      "outputs": [
        {
          "output_type": "execute_result",
          "data": {
            "text/plain": [
              "[('season', 563.0645722520181),\n",
              " ('yr', 1018.9483787875305),\n",
              " ('mnth', -131.87332028247715),\n",
              " ('holiday', -86.74609799709232),\n",
              " ('weekday', 138.00511117871918),\n",
              " ('workingday', 55.90311037506467),\n",
              " ('weathersit', -332.34978849907367),\n",
              " ('temp', 386.45788919190807),\n",
              " ('atemp', 566.3470470600669),\n",
              " ('hum', -145.07132729867195),\n",
              " ('windspeed(mph)', -99.25944108179067),\n",
              " ('windspeed(ms)', -99.25944115434177)]"
            ]
          },
          "metadata": {},
          "execution_count": 12
        }
      ]
    },
    {
      "cell_type": "markdown",
      "source": [
        "season: 563.064572252\n",
        "yr: 1018.94837879\n",
        "mnth: -131.873320282\n",
        "holiday: -86.7460979971\n",
        "weekday: 138.005111179\n",
        "workingday: 55.9031103751\n",
        "weathersit: -332.349788499\n",
        "temp: 386.457889192\n",
        "atemp: 566.34704706\n",
        "hum: -145.071327299\n",
        "windspeed(mph): -99.2594410818\n",
        "windspeed(ms): -99.2594411544"
      ],
      "metadata": {
        "id": "y2RLeeBmcXV_"
      }
    },
    {
      "cell_type": "markdown",
      "metadata": {
        "id": "OmpSEJ3wF0cr"
      },
      "source": [
        "### Задание 7\n",
        "\n",
        "В отличие от $L_2$-регуляризации, $L_1$ обнуляет веса при некоторых признаках Давайте пронаблюдаем, как меняются веса при увеличении коэффициента регуляризации $\\alpha$."
      ]
    },
    {
      "cell_type": "markdown",
      "metadata": {
        "id": "Ho9_PTbHF0cs"
      },
      "source": [
        "Для каждого значения коэффициента из `alphas` обучите регрессор `Lasso` и запишите веса список `coefs_lasso`, а затем обучите `Ridge` и запишите веса в список`coefs_ridge`. Конвертируйте полученные списки в `np.array`."
      ]
    },
    {
      "cell_type": "code",
      "metadata": {
        "id": "HiizakIyF0cs"
      },
      "source": [
        "alphas = np.arange(1, 500, 50)\n",
        "\n",
        "coefs_lasso = reg_lasso\n",
        "coefs_ridge = reg_ridge\n",
        "coefs_np_arr = []\n",
        "\n",
        "for alpha in alphas:\n",
        "    # Put your code here\n",
        "\n",
        "# Put your code here"
      ],
      "execution_count": null,
      "outputs": []
    },
    {
      "cell_type": "markdown",
      "metadata": {
        "id": "vR3hawHAF0cs"
      },
      "source": [
        "Проанализируйте динамику весов при увеличении параметра регуляризации:"
      ]
    },
    {
      "cell_type": "code",
      "metadata": {
        "id": "rijH4f-VF0cs"
      },
      "source": [
        "plt.figure(figsize=(8, 5))\n",
        "\n",
        "for coef, feature in zip(coefs_lasso.T, df.columns):\n",
        "    plt.plot(alphas, coef, label=feature, color=np.random.rand(3))\n",
        "\n",
        "plt.legend(loc=\"upper right\", bbox_to_anchor=(1.4, 0.95))\n",
        "plt.xlabel(\"alpha\")\n",
        "plt.ylabel(\"feature weight\")\n",
        "plt.title(\"Lasso\")\n",
        "\n",
        "plt.figure(figsize=(8, 5))\n",
        "for coef, feature in zip(coefs_ridge.T, df.columns):\n",
        "    plt.plot(alphas, coef, label=feature, color=np.random.rand(3))\n",
        "\n",
        "plt.legend(loc=\"upper right\", bbox_to_anchor=(1.4, 0.95))\n",
        "plt.xlabel(\"alpha\")\n",
        "plt.ylabel(\"feature weight\")\n",
        "plt.title(\"Ridge\")\n",
        "\n",
        "plt.show()"
      ],
      "execution_count": null,
      "outputs": []
    },
    {
      "cell_type": "markdown",
      "metadata": {
        "id": "wDCadrLbF0cs"
      },
      "source": [
        "Проанализируйте графики и дайте ответы на следующие вопросы.\n",
        "\n",
        "1. Какой регуляризатор (Ridge или Lasso) агрессивнее уменьшает веса при одном и том же alpha?\n",
        "1. Что произойдет с весами Lasso, если alpha сделать очень большим? Поясните, почему так происходит.\n",
        "1. Можно ли утверждать, что `Lasso` исключает один из признаков `windspeed` при любом значении `alpha > 0`? А Ridge? Считается, что регуляризатор исключает признак, если коэффициент при нем меньше $10^{-3}$.\n",
        "1. Какой из регуляризаторов подойдет для отбора неинформативных признаков?"
      ]
    },
    {
      "cell_type": "markdown",
      "metadata": {
        "id": "IEmB7CPtF0ct"
      },
      "source": [
        "### Задание 8\n",
        "\n",
        "Далее будем работать с `Lasso`.\n",
        "\n",
        "Итак, мы видим, что при изменении alpha модель по-разному подбирает коэффициенты признаков. Нам нужно выбрать наилучшее alpha.\n",
        "\n",
        "Для этого, во-первых, нам нужна метрика качества. Будем использовать в качестве метрики сам оптимизируемый функционал метода наименьших квадратов, то есть `Mean Square Error`.\n",
        "\n",
        "Во-вторых, нужно понять, на каких данных эту метрику считать. Нельзя выбирать `alpha` по значению MSE на обучающей выборке, потому что тогда мы не сможем оценить, как модель будет делать предсказания на новых для нее данных. Если мы выберем одно разбиение выборки на обучающую и тестовую (это называется holdout), то настроимся на конкретные \"новые\" данные, и вновь можем переобучиться. Поэтому будем делать несколько разбиений выборки, на каждом пробовать разные значения alpha, а затем усреднять MSE. Удобнее всего делать такие разбиения кросс-валидацией, то есть разделить выборку на $K$ часте, и каждый раз брать одну из них как тестовую, а из оставшихся блоков составлять обучающую выборку. "
      ]
    },
    {
      "cell_type": "markdown",
      "metadata": {
        "id": "wyOFogflF0ct"
      },
      "source": [
        "Делать кросс-валидацию для регрессии в sklearn совсем просто: для этого есть специальный регрессор, __LassoCV__, который берет на вход список из alpha и для каждого из них вычисляет MSE на кросс-валидации. После обучения (если оставить параметр cv=3 по умолчанию) регрессор будет содержать переменную __mse\\_path\\___, матрицу размера len(alpha) x k, k = 3 (число блоков в кросс-валидации), содержащую значения MSE на тесте для соответствующих запусков. Кроме того, в переменной alpha\\_ будет храниться выбранное значение параметра регуляризации, а в coef\\_, традиционно, обученные веса, соответствующие этому alpha_.\n",
        "\n",
        "Обратите внимание, что регрессор может менять порядок, в котором он проходит по alphas; для сопоставления с матрицей MSE лучше использовать переменную регрессора alphas_."
      ]
    },
    {
      "cell_type": "markdown",
      "metadata": {
        "id": "_aUw0GmkF0ct"
      },
      "source": [
        "Обучите регрессор `LassoCV` на всех параметрах регуляризации из alpha. Постройте график _усредненного_ по строкам `MSE` в зависимости от `alpha` (используйте для этого функцию `create_plot`).\n",
        "\n",
        "Выведите выбранное `alpha`, а также пары \"признак-коэффициент\" для обученного вектора коэффициентов."
      ]
    },
    {
      "cell_type": "code",
      "metadata": {
        "id": "L5MVKdVPF0cu"
      },
      "source": [
        "def create_plot(data, title, xlabel, ylabel, figsize=None):\n",
        "    size = figsize or (15, 5)\n",
        "    plt.figure(figsize=size)\n",
        "\n",
        "    x = map(lambda e: e[0], data)\n",
        "    y = map(lambda e: e[1], data)\n",
        "    plt.plot(x, y)\n",
        "\n",
        "    plt.title(title)\n",
        "    plt.xlabel(xlabel)\n",
        "    plt.ylabel(ylabel)\n",
        "\n",
        "    plt.grid()\n",
        "    plt.show()"
      ],
      "execution_count": null,
      "outputs": []
    },
    {
      "cell_type": "code",
      "metadata": {
        "id": "lYIKXzG5F0cu"
      },
      "source": [
        "from sklearn.linear_model import LassoCV\n",
        "\n",
        "alphas = np.arange(1, 100, 5)\n",
        "\n",
        "regressor = # Put your code here"
      ],
      "execution_count": null,
      "outputs": []
    },
    {
      "cell_type": "markdown",
      "metadata": {
        "id": "hRoEnDtfF0cu"
      },
      "source": [
        "Итак, мы выбрали некоторый параметр регуляризации. Давайте посмотрим, какие бы мы выбирали alpha, если бы делили выборку только один раз на обучающую и тестовую, то есть рассмотрим траектории MSE, соответствующие отдельным блокам выборки."
      ]
    },
    {
      "cell_type": "markdown",
      "metadata": {
        "id": "Jvl3XiPmF0cu"
      },
      "source": [
        "### Задание 9\n",
        "\n",
        "Выведите значения `alpha`, соответствующие минимумам `MSE` на каждом разбиении (то есть по столбцам).\n",
        "На трех отдельных графиках визуализируйте столбцы `mse_path_`.\n"
      ]
    },
    {
      "cell_type": "code",
      "metadata": {
        "id": "cpiFOLHHF0cu"
      },
      "source": [
        "# Put your code here"
      ],
      "execution_count": null,
      "outputs": []
    },
    {
      "cell_type": "markdown",
      "metadata": {
        "id": "UEzEyHA1F0cv"
      },
      "source": [
        "На каждом разбиении оптимальное значение `alpha` свое, и ему соответствует большое MSE на других разбиениях. Получается, что мы настраиваемся на конкретные обучающие и контрольные выборки. При выборе `alpha` на кросс-валидации мы выбираем нечто \"среднее\", что будет давать приемлемое значение метрики на разных разбиениях выборки. "
      ]
    },
    {
      "cell_type": "markdown",
      "metadata": {
        "id": "B6rE566oF0cv"
      },
      "source": [
        "### Задание 10\n",
        "\n",
        "Наконец, как принято в анализе данных, давайте проинтерпретируем результат. Ответьте на следующие вопросы."
      ]
    },
    {
      "cell_type": "markdown",
      "metadata": {
        "id": "SSCcePDSF0cw"
      },
      "source": [
        "#### Вопрос 1\n",
        "\n",
        "В последней обученной модели выберите 4 признака с наибольшими (положительными) коэфициентами (и выпишите их), посмотрите на визуализации зависимостей `cnt` от этих признаков, которые мы рисовали в блоке \"Знакомство с данными\". Видна ли возрастающая линейная зависимость `cnt` от этих признаков по графикам? Логично ли утверждать (из здравого смысла), что чем больше значение этих признаков, тем больше людей захотят взять велосипеды? "
      ]
    },
    {
      "cell_type": "markdown",
      "metadata": {
        "id": "2ikKprKqF0c0"
      },
      "source": [
        "__Ответ:__"
      ]
    },
    {
      "cell_type": "code",
      "metadata": {
        "id": "W1MTuRXuF0c0"
      },
      "source": [
        "# ???"
      ],
      "execution_count": null,
      "outputs": []
    },
    {
      "cell_type": "markdown",
      "metadata": {
        "id": "DkQTu53pF0c0"
      },
      "source": [
        "#### Вопрос 2\n",
        "\n",
        "Выберите 3 признака с наибольшими по модулю отрицательными коэффициентами (и выпишите их), посмотрите на соответствующие визуализации. Видна ли убывающая линейная зависимость? Логично ли утверждать, что чем больше величина этих признаков, тем меньше людей захотят взять велосипеды?"
      ]
    },
    {
      "cell_type": "markdown",
      "metadata": {
        "id": "DUN8I7shF0c0"
      },
      "source": [
        "__Ответ:__"
      ]
    },
    {
      "cell_type": "code",
      "metadata": {
        "id": "jv1CGs-8F0c1"
      },
      "source": [
        "# ???"
      ],
      "execution_count": null,
      "outputs": []
    },
    {
      "cell_type": "markdown",
      "metadata": {
        "id": "vrbD3fNSF0c1"
      },
      "source": [
        "#### Вопрос 3\n",
        "\n",
        "Выпишите признаки с коэффициентами, близкими к нулю (< 1e-3). Как вы думаете, почему модель исключила их из модели (вновь посмотрите на графики)? Верно ли, что они никак не влияют на спрос на велосипеды?"
      ]
    },
    {
      "cell_type": "markdown",
      "metadata": {
        "id": "tFhvV-jcF0c1"
      },
      "source": [
        "__Ответ:__"
      ]
    },
    {
      "cell_type": "code",
      "metadata": {
        "id": "TwnJNeaIF0c1"
      },
      "source": [
        "# ???"
      ],
      "execution_count": null,
      "outputs": []
    },
    {
      "cell_type": "markdown",
      "metadata": {
        "id": "Wg0VQz5_F0c2"
      },
      "source": [
        "### Заключение\n",
        "Итак, мы посмотрели, как можно следить за адекватностью линейной модели, как отбирать признаки и как грамотно, по возможности не настраиваясь на какую-то конкретную порцию данных, подбирать коэффициент регуляризации. \n",
        "\n",
        "Стоит отметить, что с помощью кросс-валидации удобно подбирать лишь небольшое число параметров (1, 2, максимум 3), потому что для каждой допустимой их комбинации нам приходится несколько раз обучать модель. Такой процесс занимает много времени, особенно если нужно обучаться на больших объемах данных."
      ]
    }
  ]
}