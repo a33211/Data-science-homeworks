{
  "nbformat": 4,
  "nbformat_minor": 0,
  "metadata": {
    "colab": {
      "provenance": [],
      "authorship_tag": "ABX9TyPrPbIvd+TNEYzi6lXqKpg1",
      "include_colab_link": true
    },
    "kernelspec": {
      "name": "python3",
      "display_name": "Python 3"
    },
    "language_info": {
      "name": "python"
    }
  },
  "cells": [
    {
      "cell_type": "markdown",
      "metadata": {
        "id": "view-in-github",
        "colab_type": "text"
      },
      "source": [
        "<a href=\"https://colab.research.google.com/github/a33211/Data-science-homeworks/blob/main/Hw1.ipynb\" target=\"_parent\"><img src=\"https://colab.research.google.com/assets/colab-badge.svg\" alt=\"Open In Colab\"/></a>"
      ]
    },
    {
      "cell_type": "markdown",
      "source": [
        "**Homework 1**\n",
        "\n",
        "---\n",
        "\n"
      ],
      "metadata": {
        "id": "mFnuoQYbIrb7"
      }
    },
    {
      "cell_type": "code",
      "execution_count": 1,
      "metadata": {
        "id": "FztdeIGA9Mqo"
      },
      "outputs": [],
      "source": [
        "import random\n",
        "import numpy as np\n",
        "\n",
        "\n",
        "\n",
        "\n",
        "def randomize (start, finish):\n",
        "  return random.randint(start, finish)"
      ]
    },
    {
      "cell_type": "markdown",
      "source": [
        "1. Створіть одновимірний масив (вектор) з першими 10-ма натуральними числами та виведіть його значення.\n",
        "\n",
        "---\n",
        "\n"
      ],
      "metadata": {
        "id": "aju3kWlQJODp"
      }
    },
    {
      "cell_type": "code",
      "source": [
        "task_1 = np.arange(10)\n",
        "print(task_1)"
      ],
      "metadata": {
        "colab": {
          "base_uri": "https://localhost:8080/"
        },
        "id": "JegSMZ4mJTe2",
        "outputId": "26487494-a316-4c16-9c40-b90662e4f139"
      },
      "execution_count": null,
      "outputs": [
        {
          "output_type": "stream",
          "name": "stdout",
          "text": [
            "[0 1 2 3 4 5 6 7 8 9]\n"
          ]
        }
      ]
    },
    {
      "cell_type": "markdown",
      "source": [
        "2. Створіть двовимірний масив (матрицю) розміром 3x3, заповніть його нулями та \n",
        "виведіть його значення.\n",
        "\n",
        "---\n",
        "\n"
      ],
      "metadata": {
        "id": "50EkrJG-OyNP"
      }
    },
    {
      "cell_type": "code",
      "source": [
        "task_2 = np.zeros(shape = (3,3))\n",
        "print(task_2)"
      ],
      "metadata": {
        "colab": {
          "base_uri": "https://localhost:8080/"
        },
        "id": "KJXaeDPFO5Te",
        "outputId": "62fd8967-52b7-47cd-bb3e-6ae4bbf706b4"
      },
      "execution_count": null,
      "outputs": [
        {
          "output_type": "stream",
          "name": "stdout",
          "text": [
            "[[0. 0. 0.]\n",
            " [0. 0. 0.]\n",
            " [0. 0. 0.]]\n"
          ]
        }
      ]
    },
    {
      "cell_type": "markdown",
      "source": [
        "3. Створіть масив розміром 5x5, заповніть його випадковими цілими числами в діапазоні від 1 до 10 та виведіть його значення."
      ],
      "metadata": {
        "id": "42eD_ZKoRjOV"
      }
    },
    {
      "cell_type": "code",
      "source": [
        "task_3 = np.random.randint(1,10, (5, 5))\n",
        "print(task_3)"
      ],
      "metadata": {
        "colab": {
          "base_uri": "https://localhost:8080/"
        },
        "id": "JoxidzRcRosk",
        "outputId": "8d107915-9f47-41be-d50f-1d68d005f960"
      },
      "execution_count": null,
      "outputs": [
        {
          "output_type": "stream",
          "name": "stdout",
          "text": [
            "[[4 8 8 7 0]\n",
            " [6 3 5 2 0]\n",
            " [0 0 4 7 5]\n",
            " [0 0 3 1 1]\n",
            " [0 4 5 6 7]]\n"
          ]
        }
      ]
    },
    {
      "cell_type": "markdown",
      "source": [
        "4. Створіть масив розміром 4x4, заповніть його випадковими дійсними числами в діапазоні від 0 до 1 та виведіть його значення."
      ],
      "metadata": {
        "id": "nig3TiheTHJt"
      }
    },
    {
      "cell_type": "code",
      "source": [
        "task_4 = np.random.rand(4, 4)\n",
        "print(task_4)"
      ],
      "metadata": {
        "colab": {
          "base_uri": "https://localhost:8080/"
        },
        "id": "KJuxMTnvTNfk",
        "outputId": "2822176e-1952-4111-e729-f909caffa63a"
      },
      "execution_count": null,
      "outputs": [
        {
          "output_type": "stream",
          "name": "stdout",
          "text": [
            "[[1.46394767e-01 9.41369398e-01 8.53313726e-01 5.53950427e-01]\n",
            " [7.81724234e-01 4.35071915e-01 7.56859154e-01 9.00279509e-04]\n",
            " [9.47580850e-01 2.38073439e-01 6.59515881e-01 9.81348074e-01]\n",
            " [1.77893498e-01 1.38522041e-01 4.55702991e-01 8.06951881e-01]]\n"
          ]
        }
      ]
    },
    {
      "cell_type": "markdown",
      "source": [
        "5. Створіть два одновимірних масиви розміром 5, заповніть їх випадковими цілими числами в діапазоні від 1 до 10 та виконайте на них поелементні операції додавання, віднімання та множення."
      ],
      "metadata": {
        "id": "XNGBsbMWU7Wx"
      }
    },
    {
      "cell_type": "code",
      "source": [
        "task_5_arr_1 = np.random.randint(1,10,(1,5))\n",
        "task_5_arr_2 = np.random.randint(1,10,(1,5))\n",
        "sum_task_5 = task_5_arr_1 + task_5_arr_2\n",
        "div_task_5 = task_5_arr_1 - task_5_arr_2\n",
        "mult_task_5 = task_5_arr_1 * task_5_arr_1\n",
        "print(sum_task_5, div_task_5, mult_task_5)"
      ],
      "metadata": {
        "colab": {
          "base_uri": "https://localhost:8080/"
        },
        "id": "l4Xc7o7cVDdg",
        "outputId": "ddc70d14-4c31-4baa-afee-a761d84d5a93"
      },
      "execution_count": null,
      "outputs": [
        {
          "output_type": "stream",
          "name": "stdout",
          "text": [
            "[[11  6  6 10 12]] [[-3 -2 -4 -4 -4]] [[16  4  1  9 16]]\n"
          ]
        }
      ]
    },
    {
      "cell_type": "markdown",
      "source": [
        "6. Створіть два вектори розміром 7, заповніть довільними числами та знайдіть їх скалярний добуток."
      ],
      "metadata": {
        "id": "p1xd-0jJWuLi"
      }
    },
    {
      "cell_type": "code",
      "source": [
        "task_6_arr_1 = np.random.rand(1,7)\n",
        "task_6_arr_2 = np.random.rand(1,7)\n",
        "mult_task_6 = task_6_arr_1*task_6_arr_2\n",
        "print(mult_task_6)"
      ],
      "metadata": {
        "colab": {
          "base_uri": "https://localhost:8080/"
        },
        "id": "HWUNoQFfWtvR",
        "outputId": "19c52852-61f0-4a76-d3ba-a98d89feb948"
      },
      "execution_count": null,
      "outputs": [
        {
          "output_type": "stream",
          "name": "stdout",
          "text": [
            "[[0.07791426 0.08814972 0.97032477 0.56738812 0.03443431 0.22014044\n",
            "  0.25067897]]\n"
          ]
        }
      ]
    },
    {
      "cell_type": "markdown",
      "source": [
        "7. Створіть дві матриці розміром 2x2 та 2x3, заповніть їх випадковими цілими числами в діапазоні від 1 до 10 та перемножте їх між собою"
      ],
      "metadata": {
        "id": "l5a2IB1CYc41"
      }
    },
    {
      "cell_type": "code",
      "source": [
        "task_7_arr_1 = np.random.randint(1,10,(2,2))\n",
        "task_7_arr_2 = np.random.randint(1,10,(2,3))\n",
        "random_matrix = [[random.randint(1,10) for e in range(2)] for e in range(3)]\n",
        "mult_task_7 = np.dot(task_7_arr_1,task_7_arr_2)\n",
        "# print(type(random_matrix))\n",
        "# print(type(task_7_arr_2))\n",
        "print(mult_task_7)"
      ],
      "metadata": {
        "colab": {
          "base_uri": "https://localhost:8080/"
        },
        "id": "JTSi50MvYe9S",
        "outputId": "4a2ab0b1-7d9c-431e-8fd9-6c847c79e762"
      },
      "execution_count": null,
      "outputs": [
        {
          "output_type": "stream",
          "name": "stdout",
          "text": [
            "<class 'list'>\n",
            "<class 'numpy.ndarray'>\n"
          ]
        }
      ]
    },
    {
      "cell_type": "markdown",
      "source": [
        "8. Створіть матрицю розміром 3x3, заповніть її випадковими цілими числами в діапазоні від 1 до 10 та знайдіть її обернену матрицю."
      ],
      "metadata": {
        "id": "R1DNhoomfRYD"
      }
    },
    {
      "cell_type": "code",
      "source": [
        "task_8_arr_straight = np.random.randint(1,10,(3,3))\n",
        "task_8_arr_inverted = np.linalg.inv(task_8_arr_straight)\n",
        "print(task_8_arr_straight)\n",
        "print(task_8_arr_inverted)"
      ],
      "metadata": {
        "colab": {
          "base_uri": "https://localhost:8080/"
        },
        "id": "Iw_qcYCMfV9h",
        "outputId": "8fb8540f-662c-4ff0-f1be-b06d3732f7a3"
      },
      "execution_count": null,
      "outputs": [
        {
          "output_type": "stream",
          "name": "stdout",
          "text": [
            "[[7 6 1]\n",
            " [3 6 8]\n",
            " [1 6 7]]\n",
            "[[ 0.05555556  0.33333333 -0.38888889]\n",
            " [ 0.12037037 -0.44444444  0.49074074]\n",
            " [-0.11111111  0.33333333 -0.22222222]]\n"
          ]
        }
      ]
    },
    {
      "cell_type": "markdown",
      "source": [
        "9. Створіть матрицю розміром 4x4, заповніть її випадковими дійсними числами в діапазоні від 0 до 1 та транспонуйте її.\n"
      ],
      "metadata": {
        "id": "mfAct1RfSbrZ"
      }
    },
    {
      "cell_type": "code",
      "source": [
        "task9_arr = np.random.rand(4,4)\n",
        "print(task9_arr)\n",
        "task9_arr_transponed = task9_arr.T\n",
        "print(task9_arr_transponed)"
      ],
      "metadata": {
        "colab": {
          "base_uri": "https://localhost:8080/"
        },
        "id": "Dt7FlDJdSnS2",
        "outputId": "7ef44573-f391-4b80-dcb3-1abba9241fab"
      },
      "execution_count": null,
      "outputs": [
        {
          "output_type": "stream",
          "name": "stdout",
          "text": [
            "[[0.16583858 0.68481974 0.40137802 0.54188226]\n",
            " [0.15467139 0.47308628 0.20960346 0.7261212 ]\n",
            " [0.22209458 0.07903434 0.76067916 0.38309156]\n",
            " [0.38224667 0.79176799 0.46256322 0.64565594]]\n",
            "[[0.16583858 0.15467139 0.22209458 0.38224667]\n",
            " [0.68481974 0.47308628 0.07903434 0.79176799]\n",
            " [0.40137802 0.20960346 0.76067916 0.46256322]\n",
            " [0.54188226 0.7261212  0.38309156 0.64565594]]\n"
          ]
        }
      ]
    },
    {
      "cell_type": "markdown",
      "source": [
        "10. Створіть матрицю розміром 3x4 та вектор розміром 4, заповніть їх випадковими цілими числами в діапазоні від 1 до 10 та перемножте матрицю на вектор."
      ],
      "metadata": {
        "id": "0E4NiTlPTUmp"
      }
    },
    {
      "cell_type": "code",
      "source": [
        "task10_arr = np.random.randint(1, 10,(3,4))\n",
        "task_10_vector = np.random.randint(1,10,(1,4))\n",
        "task_10_multiply = task_10_vector.dot(task10_arr.T)\n",
        "print(task10_arr, task_10_vector)\n",
        "print(task_10_multiply)"
      ],
      "metadata": {
        "colab": {
          "base_uri": "https://localhost:8080/"
        },
        "id": "7NrXxDICTaTi",
        "outputId": "c192e94c-0781-48b3-a3aa-425d0376fd1e"
      },
      "execution_count": null,
      "outputs": [
        {
          "output_type": "stream",
          "name": "stdout",
          "text": [
            "[[5 7 1 6]\n",
            " [8 8 4 8]\n",
            " [9 2 6 3]] [[5 3 5 2]]\n",
            "[[ 63 100  87]]\n"
          ]
        }
      ]
    },
    {
      "cell_type": "markdown",
      "source": [
        "11. Створіть матрицю розміром 2x3 та вектор розміром 3, заповніть їх випадковими дійсними числами в діапазоні від 0 до 1 та перемножте матрицю на вектор."
      ],
      "metadata": {
        "id": "vdB6it_AWGNj"
      }
    },
    {
      "cell_type": "code",
      "source": [
        "task11_arr = np.random.rand(2,3)\n",
        "task_11_vector = np.random.rand(1,3)\n",
        "task_11_multiply = task_11_vector.dot(task11_arr.T)\n",
        "print (task_11_multiply)"
      ],
      "metadata": {
        "colab": {
          "base_uri": "https://localhost:8080/"
        },
        "id": "M9n7Y9qaWKa3",
        "outputId": "31f23e36-4fe3-4321-9a49-c838472d0622"
      },
      "execution_count": null,
      "outputs": [
        {
          "output_type": "stream",
          "name": "stdout",
          "text": [
            "[[0.62662415 1.19374716]]\n"
          ]
        }
      ]
    },
    {
      "cell_type": "markdown",
      "source": [
        "12.Створіть дві матриці розміром 2x2, заповніть їх випадковими цілими числами в діапазоні від 1 до 10 та виконайте їхнє поелементне множення."
      ],
      "metadata": {
        "id": "U4W5Qw9PZnfa"
      }
    },
    {
      "cell_type": "code",
      "source": [
        "task12_arr_1 = np.random.randint(1, 10,(2,2))\n",
        "task12_arr_2 = np.random.randint(1, 10,(2,2))\n",
        "task12_mult = np.multiply(task12_arr_1, task12_arr_2)\n",
        "print(task12_arr_1, task12_arr_2)\n",
        "print(task12_mult)"
      ],
      "metadata": {
        "colab": {
          "base_uri": "https://localhost:8080/"
        },
        "id": "g4rqW5VPZpG9",
        "outputId": "a72d35c8-46d9-47b9-e9aa-97f6f1e6116c"
      },
      "execution_count": null,
      "outputs": [
        {
          "output_type": "stream",
          "name": "stdout",
          "text": [
            "[[3 3]\n",
            " [4 7]] [[7 1]\n",
            " [7 5]]\n",
            "[[21  3]\n",
            " [28 35]]\n"
          ]
        }
      ]
    },
    {
      "cell_type": "markdown",
      "source": [
        "13. Створіть дві матриці розміром 2x2, заповніть їх випадковими цілими числами в діапазоні від 1 до 10 та знайдіть їх добуток."
      ],
      "metadata": {
        "id": "Mu8MC6Ina1R0"
      }
    },
    {
      "cell_type": "code",
      "source": [
        "task13_arr_1 = np.random.randint(1, 10,(2,2))\n",
        "task13_arr_2 = np.random.randint(1, 10,(2,2))\n",
        "test1 = np.matmul(task13_arr_1, task13_arr_2)\n",
        "print(type(test1), test1)\n",
        "test2 = np.dot(task13_arr_1, task13_arr_2)\n",
        "print(type(test2), test2)\n",
        "print(test1 == test1)"
      ],
      "metadata": {
        "colab": {
          "base_uri": "https://localhost:8080/"
        },
        "id": "3Lxr4fEca6dT",
        "outputId": "df85dc4d-6af8-441e-8c96-812cf5b3a548"
      },
      "execution_count": null,
      "outputs": [
        {
          "output_type": "stream",
          "name": "stdout",
          "text": [
            "<class 'numpy.ndarray'> [[109  72]\n",
            " [ 88  72]]\n",
            "<class 'numpy.ndarray'> [[109  72]\n",
            " [ 88  72]]\n",
            "[[ True  True]\n",
            " [ True  True]]\n"
          ]
        }
      ]
    },
    {
      "cell_type": "markdown",
      "source": [
        "14. Створіть матрицю розміром 5x5, заповніть її випадковими цілими числами в діапазоні від 1 до 100 та знайдіть суму елементів матриці."
      ],
      "metadata": {
        "id": "SFoP0B0ldEPw"
      }
    },
    {
      "cell_type": "code",
      "source": [
        "task14_arr = np.random.randint(1, 100,(5,5))\n",
        "task14_arr_sum = task14_arr.sum()\n",
        "print(task14_arr_sum)"
      ],
      "metadata": {
        "colab": {
          "base_uri": "https://localhost:8080/"
        },
        "id": "DphlRzftdweS",
        "outputId": "e51d9fd2-de76-464e-d783-0bb1afcbd1b6"
      },
      "execution_count": null,
      "outputs": [
        {
          "output_type": "stream",
          "name": "stdout",
          "text": [
            "1170\n"
          ]
        }
      ]
    },
    {
      "cell_type": "markdown",
      "source": [
        "15. Створіть дві матриці розміром 4x4, заповніть їх випадковими цілими числами в діапазоні від 1 до 10 та знайдіть їхню різницю."
      ],
      "metadata": {
        "id": "mY-0Ml7Ad8jK"
      }
    },
    {
      "cell_type": "code",
      "source": [
        "task15_arr_1 = np.random.randint(1, 10,(4,4))\n",
        "task15_arr_2 = np.random.randint(1, 10,(4,4))\n",
        "task15_arr_div = task15_arr_1-task15_arr_2\n",
        "print(task15_arr_1)\n",
        "print(\"_____________________\")\n",
        "print(task15_arr_2)\n",
        "print(\"_____________________\")\n",
        "print(task15_arr_div)"
      ],
      "metadata": {
        "colab": {
          "base_uri": "https://localhost:8080/"
        },
        "id": "OMchERckeBJA",
        "outputId": "03f9459a-b201-47fd-8260-7fce0ee39e2f"
      },
      "execution_count": null,
      "outputs": [
        {
          "output_type": "stream",
          "name": "stdout",
          "text": [
            "[[6 3 4 6]\n",
            " [8 8 5 7]\n",
            " [4 7 5 9]\n",
            " [4 4 6 6]]\n",
            "_____________________\n",
            "[[8 3 4 8]\n",
            " [7 9 2 4]\n",
            " [3 3 1 3]\n",
            " [9 8 2 4]]\n",
            "_____________________\n",
            "[[-2  0  0 -2]\n",
            " [ 1 -1  3  3]\n",
            " [ 1  4  4  6]\n",
            " [-5 -4  4  2]]\n"
          ]
        }
      ]
    },
    {
      "cell_type": "markdown",
      "source": [
        "16. Створіть матрицю розміром 3x3, заповніть її випадковими дійсними числами в діапазоні від 0 до 1 та знайдіть вектор-стовпчик, що містить суму елементів кожного рядка матриці."
      ],
      "metadata": {
        "id": "OZxjMyude76p"
      }
    },
    {
      "cell_type": "code",
      "source": [
        "task16_arr = np.random.randint(1, 10,(3,3))\n",
        "task16_arr_sum = task16_arr.sum(axis = 0)\n",
        "print(task16_arr_sum)"
      ],
      "metadata": {
        "colab": {
          "base_uri": "https://localhost:8080/"
        },
        "id": "QqqK1NfAfEdV",
        "outputId": "f4cfa2a0-77a6-4807-943f-7ab4ff8e033f"
      },
      "execution_count": null,
      "outputs": [
        {
          "output_type": "stream",
          "name": "stdout",
          "text": [
            "[20 15 20]\n"
          ]
        }
      ]
    },
    {
      "cell_type": "markdown",
      "source": [
        "17. Створіть матрицю розміром 3x4 з довільними цілими числами і створінь матрицю з квадратами цих чисел."
      ],
      "metadata": {
        "id": "rKbkz_NAg5x9"
      }
    },
    {
      "cell_type": "code",
      "source": [
        "from numpy.linalg import matrix_power\n",
        "\n",
        "task16_arr = np.random.randint(2, 10, (3,4))\n",
        "print(task16_arr)\n",
        "task16_arr_empowered = np.power(task16_arr, 2)\n",
        "print(task16_arr_empowered)"
      ],
      "metadata": {
        "colab": {
          "base_uri": "https://localhost:8080/"
        },
        "id": "KjUsbZrCg_31",
        "outputId": "b00e01b9-9257-4a88-80a5-924ab74b8104"
      },
      "execution_count": 3,
      "outputs": [
        {
          "output_type": "stream",
          "name": "stdout",
          "text": [
            "[[5 2 8 4]\n",
            " [9 4 6 7]\n",
            " [3 4 8 2]]\n",
            "[[25  4 64 16]\n",
            " [81 16 36 49]\n",
            " [ 9 16 64  4]]\n"
          ]
        }
      ]
    },
    {
      "cell_type": "markdown",
      "source": [
        "18. Створіть вектор розміром 4, заповніть його випадковими цілими числами в діапазоні від 1 до 50 та знайдіть вектор з квадратними коренями цих чисел."
      ],
      "metadata": {
        "id": "TwXmgS6ll6Yz"
      }
    },
    {
      "cell_type": "code",
      "source": [
        "task18_arr = np.random.randint(1, 50,(1,4))\n",
        "print(task18_arr)\n",
        "task18_arr_sqrt = np.sqrt(task18_arr)\n",
        "print(task18_arr_sqrt)"
      ],
      "metadata": {
        "colab": {
          "base_uri": "https://localhost:8080/"
        },
        "id": "2k8ImYromAmZ",
        "outputId": "dfde171e-88b7-4313-f581-cde2c5d3c4a5"
      },
      "execution_count": null,
      "outputs": [
        {
          "output_type": "stream",
          "name": "stdout",
          "text": [
            "[[41 16 10 35]]\n",
            "[[6.40312424 4.         3.16227766 5.91607978]]\n"
          ]
        }
      ]
    }
  ]
}