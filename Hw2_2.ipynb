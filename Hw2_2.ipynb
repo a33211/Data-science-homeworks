{
  "nbformat": 4,
  "nbformat_minor": 0,
  "metadata": {
    "colab": {
      "provenance": [],
      "authorship_tag": "ABX9TyOrGLpWNn9tbYIxiaHtkj4P",
      "include_colab_link": true
    },
    "kernelspec": {
      "name": "python3",
      "display_name": "Python 3"
    },
    "language_info": {
      "name": "python"
    }
  },
  "cells": [
    {
      "cell_type": "markdown",
      "metadata": {
        "id": "view-in-github",
        "colab_type": "text"
      },
      "source": [
        "<a href=\"https://colab.research.google.com/github/a33211/Data-science-homeworks/blob/main/Hw2_2.ipynb\" target=\"_parent\"><img src=\"https://colab.research.google.com/assets/colab-badge.svg\" alt=\"Open In Colab\"/></a>"
      ]
    },
    {
      "cell_type": "markdown",
      "source": [
        "# Частина друга: Аналіз файлів\n",
        "Необхідно виконати:\n",
        "\n",
        "- Прочитайте файл 2017_jun_final.csv за допомогою методу read_csv\n",
        "- Прочитайте отриману таблицю, використовуючи метод head\n",
        "- Визначте розмір таблиці за допомогою методу shape\n",
        "- Визначте типи всіх стовпців за допомогою dataframe.dtypes\n",
        "- Порахуйте, яка частка пропусків міститься в кожній колонці (використовуйте методи isnull та sum)\n",
        "- Видаліть усі стовпці з пропусками, крім стовпця \"Мова програмування\"\n",
        "- Знову порахуйте, яка частка пропусків міститься в кожній колонці і переконайтеся, що залишився тільки стовпець \"Мова.програмування\"\n",
        "- Видаліть усі рядки у вихідній таблиці за допомогою методу dropna\n",
        "- Визначте новий розмір таблиці за допомогою методу shape\n",
        "- Створіть нову таблицю python_data, в якій будуть тільки рядки зі спеціалістами, які вказали мову програмування Python\n",
        "- Визначте розмір таблиці python_data за допомогою методу shape\n",
        "- Використовуючи метод groupby, виконайте групування за стовпчиком \"Посада\"\n",
        "- Створіть новий DataFrame, де для згрупованих даних за стовпчиком \"Посада\", виконайте агрегацію даних за допомогою методу agg і знайдіть мінімальне та максимальне значення у стовпчику \"Зарплата.в.місяць\"\n",
        "- Створіть функцію fill_avg_salary, яка повертатиме середнє значення заробітної плати на місяць. Використовуйте її для методу apply та створіть новий стовпчик \"avg\"\n",
        "- Створіть описову статистику за допомогою методу describe для нового стовпчика.\n",
        "Збережіть отриману таблицю в CSV файл"
      ],
      "metadata": {
        "id": "UPyR_EwjIiW1"
      }
    },
    {
      "cell_type": "code",
      "execution_count": 2,
      "metadata": {
        "id": "L_Nm3Q2NIMVS"
      },
      "outputs": [],
      "source": [
        "import pandas as pd\n",
        "import matplotlib.pyplot as plt\n",
        "import numpy as np"
      ]
    },
    {
      "cell_type": "code",
      "source": [
        "#Прочитайте файл 2017_jun_final.csv за допомогою методу read_csv\n",
        "#Прочитайте отриману таблицю, використовуючи метод head\n",
        "df = pd.read_csv('2017_jun_final.csv')\n",
        "df.head"
      ],
      "metadata": {
        "colab": {
          "base_uri": "https://localhost:8080/"
        },
        "id": "MgBQOjYRXxuW",
        "outputId": "94cfd838-c41e-47b0-eae1-1b70bc58c964"
      },
      "execution_count": 9,
      "outputs": [
        {
          "output_type": "execute_result",
          "data": {
            "text/plain": [
              "<bound method NDFrame.head of          N                 Должность Язык.программирования Специализация  \\\n",
              "0        1        Junior QA engineer                   NaN     Manual QA   \n",
              "1        2        Junior QA engineer                   NaN     Manual QA   \n",
              "2        3         Software Engineer               C#/.NET           NaN   \n",
              "3        4         Software Engineer            JavaScript           NaN   \n",
              "4        5  Senior Software Engineer            JavaScript           NaN   \n",
              "...    ...                       ...                   ...           ...   \n",
              "8699  8700               QA engineer                   NaN     Manual QA   \n",
              "8700  8701                 Marketing                   NaN           NaN   \n",
              "8701  8702  Junior Software Engineer            Ruby/Rails           NaN   \n",
              "8702  8703                 Team lead                   NaN           NaN   \n",
              "8703  8704  Senior Software Engineer                  Java           NaN   \n",
              "\n",
              "     Общий.опыт.работы Опыт.работы.на.текущем.месте  Зарплата.в.месяц  \\\n",
              "0                  0.5                          0.5               400   \n",
              "1     меньше 3 месяцев             меньше 3 месяцев               430   \n",
              "2                    4                            1              2500   \n",
              "3                    5                            4              2000   \n",
              "4       10 и более лет                          0.5              4500   \n",
              "...                ...                          ...               ...   \n",
              "8699                 1             меньше 3 месяцев               700   \n",
              "8700               0.5                          0.5               400   \n",
              "8701                 1                          0.5               800   \n",
              "8702                 6                            4              2600   \n",
              "8703                 7                            2              5000   \n",
              "\n",
              "      Изменение.зарплаты.за.12.месяцев    Город     Размер.компании  ...  \\\n",
              "0                                    0  Харьков       до 10 человек  ...   \n",
              "1                                  130  Харьков  свыше 1000 человек  ...   \n",
              "2                                  800     Киев     до 1000 человек  ...   \n",
              "3                                  400   Одесса      до 200 человек  ...   \n",
              "4                                  500   Другой       до 10 человек  ...   \n",
              "...                                ...      ...                 ...  ...   \n",
              "8699                               700   Одесса       до 50 человек  ...   \n",
              "8700                               120     Киев       до 50 человек  ...   \n",
              "8701                               500    Львов       до 10 человек  ...   \n",
              "8702                                 0    Днепр  свыше 1000 человек  ...   \n",
              "8703                               800   Одесса     до 1000 человек  ...   \n",
              "\n",
              "     Еще.студент Уровень.английского                    Предметная.область  \\\n",
              "0           True       ниже среднего                         iOS,eCommerce   \n",
              "1           True       выше среднего                        Веб-разработка   \n",
              "2          False             средний  Веб-разработка,Корпоративные системы   \n",
              "3          False       ниже среднего   Desktop Applications,Веб-разработка   \n",
              "4          False             средний   Desktop Applications,Веб-разработка   \n",
              "...          ...                 ...                                   ...   \n",
              "8699       False             средний          Android,Desktop Applications   \n",
              "8700       False       ниже среднего                             eCommerce   \n",
              "8701       False       выше среднего  Веб-разработка,Корпоративные системы   \n",
              "8702       False         продвинутый                       Финансы и банки   \n",
              "8703       False       выше среднего                        Веб-разработка   \n",
              "\n",
              "          Дата.заполнения                                         User.Agent  \\\n",
              "0     12/06/2017 12:38:08  Mozilla/5.0 (Windows NT 10.0; Win64; x64) Appl...   \n",
              "1     12/06/2017 12:42:51  Mozilla/5.0 (iPad; CPU OS 10_2_1 like Mac OS X...   \n",
              "2     12/06/2017 13:02:47  Mozilla/5.0 (Windows NT 10.0; Win64; x64) Appl...   \n",
              "3     12/06/2017 13:03:01  Mozilla/5.0 (Windows NT 6.1; Win64; x64) Apple...   \n",
              "4     12/06/2017 13:03:47  Mozilla/5.0 (iPhone; CPU iPhone OS 10_3_2 like...   \n",
              "...                   ...                                                ...   \n",
              "8699  12/07/2017 15:45:24  Mozilla/5.0 (X11; Ubuntu; Linux x86_64; rv:54....   \n",
              "8700  12/07/2017 17:00:06  Mozilla/5.0 (Windows NT 10.0; Win64; x64) Appl...   \n",
              "8701  12/07/2017 17:32:26  Mozilla/5.0 (X11; Linux x86_64) AppleWebKit/53...   \n",
              "8702  12/07/2017 18:14:59  Mozilla/5.0 (Windows NT 6.1) AppleWebKit/537.3...   \n",
              "8703  12/07/2017 21:28:57  Mozilla/5.0 (iPad; CPU OS 10_3_2 like Mac OS X...   \n",
              "\n",
              "       exp current_job_exp salary Валюта  cls  \n",
              "0      0.5             0.5    400    NaN   QA  \n",
              "1      0.0             0.0    430    NaN   QA  \n",
              "2      4.0             1.0   2500    NaN  DEV  \n",
              "3      5.0             4.0   2000    NaN  DEV  \n",
              "4     10.0             0.5   4500    NaN  DEV  \n",
              "...    ...             ...    ...    ...  ...  \n",
              "8699   1.0             0.0    700    NaN   QA  \n",
              "8700   0.5             0.5    400    NaN  NaN  \n",
              "8701   1.0             0.5    800    NaN  DEV  \n",
              "8702   6.0             4.0   2600    NaN   PM  \n",
              "8703   7.0             2.0   5000    NaN  DEV  \n",
              "\n",
              "[8704 rows x 25 columns]>"
            ]
          },
          "metadata": {},
          "execution_count": 9
        }
      ]
    },
    {
      "cell_type": "code",
      "source": [
        "#Визначте розмір таблиці за допомогою методу shape\n",
        "df.shape"
      ],
      "metadata": {
        "colab": {
          "base_uri": "https://localhost:8080/"
        },
        "id": "b4uKKbW3a9TD",
        "outputId": "90180e7d-5d8d-41bd-c88e-61b72911c8ac"
      },
      "execution_count": 5,
      "outputs": [
        {
          "output_type": "execute_result",
          "data": {
            "text/plain": [
              "(8704, 25)"
            ]
          },
          "metadata": {},
          "execution_count": 5
        }
      ]
    },
    {
      "cell_type": "code",
      "source": [
        "#Визначте типи всіх стовпців за допомогою dataframe.dtypes\n",
        "df.dtypes"
      ],
      "metadata": {
        "id": "RjC_HjdBbIOE"
      },
      "execution_count": null,
      "outputs": []
    },
    {
      "cell_type": "code",
      "source": [
        "#Порахуйте, яка частка пропусків міститься в кожній колонці (використовуйте методи isnull та sum)\n",
        "print(df.isnull().sum()* 100 / len(df))"
      ],
      "metadata": {
        "id": "W9ch-IJ0bSLQ"
      },
      "execution_count": null,
      "outputs": []
    },
    {
      "cell_type": "code",
      "source": [
        "#Видаліть усі стовпці з пропусками, крім стовпця \"Мова програмування\"\n",
        "df_hollowed = df.dropna(axis = 1)\n",
        "df_hollowed.shape"
      ],
      "metadata": {
        "colab": {
          "base_uri": "https://localhost:8080/"
        },
        "id": "rHpARpzpcey4",
        "outputId": "4ded03e0-157e-4f7c-e614-547d9882a86d"
      },
      "execution_count": 21,
      "outputs": [
        {
          "output_type": "execute_result",
          "data": {
            "text/plain": [
              "(8704, 19)"
            ]
          },
          "metadata": {},
          "execution_count": 21
        }
      ]
    }
  ]
}